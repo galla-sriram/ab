{
 "cells": [
  {
   "cell_type": "code",
   "execution_count": 1,
   "id": "a11c0732",
   "metadata": {},
   "outputs": [
    {
     "ename": "FileNotFoundError",
     "evalue": "[WinError 3] The system cannot find the path specified: 'C:\\\\Users\\\\varun\\\\Desktop\\\\mini.ipynb_checkpoints'",
     "output_type": "error",
     "traceback": [
      "\u001b[1;31m---------------------------------------------------------------------------\u001b[0m",
      "\u001b[1;31mFileNotFoundError\u001b[0m                         Traceback (most recent call last)",
      "Cell \u001b[1;32mIn[1], line 226\u001b[0m\n\u001b[0;32m    224\u001b[0m bfc\u001b[38;5;241m=\u001b[39m[]\n\u001b[0;32m    225\u001b[0m \u001b[38;5;28;01mfor\u001b[39;00m i \u001b[38;5;129;01min\u001b[39;00m h:\n\u001b[1;32m--> 226\u001b[0m     q\u001b[38;5;241m=\u001b[39mos\u001b[38;5;241m.\u001b[39mlistdir(\u001b[38;5;124mr\u001b[39m\u001b[38;5;124m\"\u001b[39m\u001b[38;5;124mC:\u001b[39m\u001b[38;5;124m\\\u001b[39m\u001b[38;5;124mUsers\u001b[39m\u001b[38;5;124m\\\u001b[39m\u001b[38;5;124mvarun\u001b[39m\u001b[38;5;124m\\\u001b[39m\u001b[38;5;124mDesktop\u001b[39m\u001b[38;5;124m\\\u001b[39m\u001b[38;5;124mmini\u001b[39m\u001b[38;5;124m\"\u001b[39m\u001b[38;5;241m+\u001b[39mi)\n\u001b[0;32m    227\u001b[0m     \u001b[38;5;28;01mfor\u001b[39;00m z \u001b[38;5;129;01min\u001b[39;00m q:\n\u001b[0;32m    228\u001b[0m         \u001b[38;5;28;01mif\u001b[39;00m \u001b[38;5;124m'\u001b[39m\u001b[38;5;124m.wav\u001b[39m\u001b[38;5;124m'\u001b[39m \u001b[38;5;129;01min\u001b[39;00m z:\n",
      "\u001b[1;31mFileNotFoundError\u001b[0m: [WinError 3] The system cannot find the path specified: 'C:\\\\Users\\\\varun\\\\Desktop\\\\mini.ipynb_checkpoints'"
     ]
    }
   ],
   "source": [
    "import glob\n",
    "import numpy as np\n",
    "import pandas as pd\n",
    "import parselmouth \n",
    "import statistics\n",
    "import spafe.utils.vis as vis\n",
    "from spafe.features.gfcc import gfcc\n",
    "from spafe.features.bfcc import bfcc\n",
    "from spafe.features.lfcc import lfcc\n",
    "from parselmouth.praat import call\n",
    "from scipy.stats.mstats import zscore\n",
    "from sklearn.decomposition import PCA\n",
    "from sklearn.preprocessing import StandardScaler\n",
    "import time\n",
    "import scipy\n",
    "import scipy.io.wavfile\n",
    "from scipy import signal\n",
    "import matplotlib.pyplot as plt\n",
    "import IPython\n",
    "import os\n",
    "import librosa\n",
    "import csv\n",
    "def mfcc(r):\n",
    "    y, sr = librosa.load(r)\n",
    "    p=librosa.feature.mfcc(y=y, sr=sr, n_mfcc=1)\n",
    "    freq=[]\n",
    "    for i in p[0]:\n",
    "        if i!=0.0 :\n",
    "            freq.append(i)\n",
    "    avg = sum(freq)/len(freq)\n",
    "    return avg\n",
    "\n",
    "def sperolloff(r):\n",
    "    y, sr = librosa.load(r)\n",
    "    p=librosa.feature.spectral_rolloff(y=y, sr=sr)\n",
    "    freq=[]\n",
    "    for i in p[0]:\n",
    "        if i!=0.0 :\n",
    "            freq.append(i)\n",
    "    if len(freq)!=0:\n",
    "        avg = sum(freq)/len(freq)\n",
    "        return avg\n",
    "    return 0\n",
    "\n",
    "def specentroid(r):\n",
    "    y, sr = librosa.load(r)\n",
    "    p=librosa.feature.spectral_centroid(y=y, sr=sr)\n",
    "    freq=[]\n",
    "    for i in p[0]:\n",
    "        if i!=0.0 :\n",
    "            freq.append(i)\n",
    "    if len(freq)!=0:\n",
    "        avg = sum(freq)/len(freq)\n",
    "        return avg\n",
    "    return 0\n",
    "\n",
    "def measurePitch(voiceID, f0min, f0max, unit):\n",
    "    harmonicity = call(sound, \"To Harmonicity (cc)\", 0.01, f0min, 0.1, 1.0)\n",
    "    hnr = call(harmonicity, \"Get mean\", 0, 0)   \n",
    "    return hnr\n",
    "\n",
    "def gfccep(sig,fs):\n",
    "    a=[]\n",
    "    try:\n",
    "        gfccs  = gfcc(sig,fs=fs)\n",
    "        for i in gfccs:\n",
    "            x=sum(i)/len(i)\n",
    "            a.append(x)\n",
    "        x=sum(a)/len(a)\n",
    "        x=float(str(x)[:6])\n",
    "        return x \n",
    "    except:\n",
    "        return 0   \n",
    "\n",
    "def bfccep(sig):\n",
    "    a=[]\n",
    "    bfccs  = bfcc(sig,fs=16000,num_ceps=13)\n",
    "    for i in bfccs:\n",
    "        x=sum(i)/len(i)\n",
    "        a.append(x)\n",
    "    x=sum(a)/len(a)\n",
    "    return x\n",
    "\n",
    "def lfccep(sig):\n",
    "    a=[]\n",
    "    lfccs  = lfcc(sig,fs=16000,num_ceps=13)\n",
    "    for i in lfccs:\n",
    "        x=sum(i)/len(i)\n",
    "        a.append(x)\n",
    "    x=sum(a)/len(a)\n",
    "    x=float(str(x)[:6])\n",
    "    return x\n",
    "\n",
    "def measurejitshim(voiceID, f0min, f0max, unit):\n",
    "    sound = parselmouth.Sound(voiceID) # read the sound\n",
    "    duration = call(sound, \"Get total duration\") # duration\n",
    "    pitch = call(sound, \"To Pitch\", 0.0, f0min, f0max) #create a praat pitch object\n",
    "    meanF0 = call(pitch, \"Get mean\", 0, 0, unit) # get mean pitch\n",
    "    stdevF0 = call(pitch, \"Get standard deviation\", 0 ,0, unit) # get standard deviation\n",
    "    harmonicity = call(sound, \"To Harmonicity (cc)\", 0.01, f0min, 0.1, 1.0)\n",
    "    hnr = call(harmonicity, \"Get mean\", 0, 0)\n",
    "    pointProcess = call(sound, \"To PointProcess (periodic, cc)\", f0min, f0max)\n",
    "    localJitter = call(pointProcess, \"Get jitter (local)\", 0, 0, 0.0001, 0.02, 1.3)\n",
    "    localabsoluteJitter = call(pointProcess, \"Get jitter (local, absolute)\", 0, 0, 0.0001, 0.02, 1.3)\n",
    "    rapJitter = call(pointProcess, \"Get jitter (rap)\", 0, 0, 0.0001, 0.02, 1.3)\n",
    "    ppq5Jitter = call(pointProcess, \"Get jitter (ppq5)\", 0, 0, 0.0001, 0.02, 1.3)\n",
    "    ddpJitter = call(pointProcess, \"Get jitter (ddp)\", 0, 0, 0.0001, 0.02, 1.3)\n",
    "    localShimmer =  call([sound, pointProcess], \"Get shimmer (local)\", 0, 0, 0.0001, 0.02, 1.3, 1.6)\n",
    "    localdbShimmer = call([sound, pointProcess], \"Get shimmer (local_dB)\", 0, 0, 0.0001, 0.02, 1.3, 1.6)\n",
    "    apq3Shimmer = call([sound, pointProcess], \"Get shimmer (apq3)\", 0, 0, 0.0001, 0.02, 1.3, 1.6)\n",
    "    aqpq5Shimmer = call([sound, pointProcess], \"Get shimmer (apq5)\", 0, 0, 0.0001, 0.02, 1.3, 1.6)\n",
    "    apq11Shimmer =  call([sound, pointProcess], \"Get shimmer (apq11)\", 0, 0, 0.0001, 0.02, 1.3, 1.6)\n",
    "    ddaShimmer = call([sound, pointProcess], \"Get shimmer (dda)\", 0, 0, 0.0001, 0.02, 1.3, 1.6)\n",
    "    return localJitter, localabsoluteJitter, rapJitter, ppq5Jitter, ddpJitter, localShimmer, localdbShimmer, apq3Shimmer, aqpq5Shimmer, apq11Shimmer, ddaShimmer\n",
    "\n",
    "\n",
    "def runPCA(df,i):\n",
    "    # z-score the Jitter and Shimmer measurements\n",
    "    pca = PCA(n_components=1)\n",
    "    x = df\n",
    "    principalComponents = pca.fit_transform(x)\n",
    "    if i==1:\n",
    "        principalDf = pd.DataFrame(data = principalComponents, columns = ['JitterPCA'])\n",
    "    else:\n",
    "        principalDf = pd.DataFrame(data = principalComponents, columns = ['ShimmerPCA'])\n",
    "    return principalDf\n",
    "localJitter_list = []\n",
    "localabsoluteJitter_list = []\n",
    "rapJitter_list = []\n",
    "ppq5Jitter_list = []\n",
    "ddpJitter_list = []\n",
    "localShimmer_list = []\n",
    "localdbShimmer_list = []\n",
    "apq3Shimmer_list = []\n",
    "aqpq5Shimmer_list = []\n",
    "apq11Shimmer_list = []\n",
    "ddaShimmer_list = []\n",
    "\n",
    "\n",
    "class FundamentalFrequenciesExtractor:\n",
    "    def __init__(self, debug=False):\n",
    "        self.debug = debug\n",
    "\n",
    "    def differenceFunction(self, x, N, tau_max):\n",
    "        x = np.array(x, np.float64)\n",
    "        w = x.size\n",
    "        x_cumsum = np.concatenate((np.array([0]), (x * x).cumsum()))\n",
    "        conv = scipy.signal.fftconvolve(x, x[::-1])\n",
    "        tmp = x_cumsum[w:0:-1] + x_cumsum[w] - x_cumsum[:w] - 2 * conv[w - 1:]\n",
    "        return tmp[:tau_max]\n",
    "\n",
    "    def cumulativeMeanNormalizedDifferenceFunction(self, df, N):\n",
    "        cmndf = df[1:] * range(1, N) / np.cumsum(df[1:]).astype(float)  # scipy method\n",
    "        return np.insert(cmndf, 0, 1)\n",
    "\n",
    "    def getPitch(self, cmdf, tau_min, tau_max, harmo_th=0.1):\n",
    "        tau = tau_min\n",
    "        while tau < tau_max:\n",
    "            if cmdf[tau] < harmo_th:\n",
    "                while tau + 1 < tau_max and cmdf[tau + 1] < cmdf[tau]:\n",
    "                    tau += 1\n",
    "                return tau\n",
    "            tau += 1\n",
    "\n",
    "        return 0  # if unvoiced\n",
    "\n",
    "    def compute_yin(self,sig,fs,dataFileName=None,w_len=512,w_step=256,f0_min=50,f0_max=3000,harmo_thresh=0.1):\n",
    "        if self.debug:\n",
    "            print('Yin: compute yin algorithm')\n",
    "        tau_min, tau_max = int(fs / f0_max), int(fs / f0_min)\n",
    "\n",
    "        timeScale = range(0,\n",
    "                          len(sig) - w_len,\n",
    "                          w_step)  # time values for each analysis window\n",
    "        times = [t / float(fs) for t in timeScale]\n",
    "        frames = [sig[t:t + w_len] for t in timeScale]\n",
    "\n",
    "        pitches = [0.0] * len(timeScale)\n",
    "        harmonic_rates = [0.0] * len(timeScale)\n",
    "        argmins = [0.0] * len(timeScale)\n",
    "\n",
    "        for i, frame in enumerate(frames):\n",
    "            # Compute YIN\n",
    "            df = self.differenceFunction(frame, w_len, tau_max)\n",
    "            cmdf = self.cumulativeMeanNormalizedDifferenceFunction(df, tau_max)\n",
    "            p = self.getPitch(cmdf, tau_min, tau_max, harmo_thresh)\n",
    "\n",
    "            # Get results\n",
    "            if np.argmin(cmdf) > tau_min:\n",
    "                argmins[i] = float(fs / np.argmin(cmdf))\n",
    "            #  A pitch was found\n",
    "            if p != 0:\n",
    "                pitches[i] = float(fs / p)\n",
    "                harmonic_rates[i] = cmdf[p]\n",
    "            #  No pitch, but we compute a value of the harmonic rate\n",
    "            else:\n",
    "                harmonic_rates[i] = min(cmdf)\n",
    "\n",
    "        return pitches, harmonic_rates, argmins, times\n",
    "\n",
    "    def main(self,sig,fs,w_len=1024,w_step=256,f0_min=70,f0_max=200,harmo_thresh=0.85,audioDir=\"./\",dataFileName=None):\n",
    "        start = time.time()\n",
    "        duration = len(sig) / float(fs)\n",
    "        pitches, harmonic_rates, argmins, times = self.compute_yin(sig, fs, dataFileName, w_len, w_step, f0_min, f0_max, harmo_thresh)\n",
    "        freq=[]\n",
    "        for i in pitches:\n",
    "            if i!=0.0 :\n",
    "                freq.append(i)\n",
    "        if len(freq)!=0:\n",
    "            avg = sum(freq)/len(freq)\n",
    "            return avg\n",
    "        return 0\n",
    "    \n",
    "    \n",
    "h=os.listdir(r\"C:\\Users\\varun\\Desktop\\mini\")\n",
    "mf=[]\n",
    "spr=[]\n",
    "spc=[]\n",
    "hnr=[]\n",
    "f0=[]\n",
    "gfc=[]\n",
    "status=[]\n",
    "lfc=[]\n",
    "bfc=[]\n",
    "for i in h:\n",
    "    q=os.listdir(r\"C:\\Users\\varun\\Desktop\\mini\"+i)\n",
    "    for z in q:\n",
    "        if '.wav' in z:\n",
    "            j=q.index(z)\n",
    "            path=r\"C:\\Users\\varun\\Desktop\\mini/\"+i+\"/\"+ q[j]\n",
    "            mf.append(mfcc(path))\n",
    "            spr.append(sperolloff(path))\n",
    "            spc.append(specentroid(path))\n",
    "            sound = parselmouth.Sound(path)\n",
    "            hnr.append(measurePitch(sound, 75, 300, \"Hertz\"))\n",
    "            ff=FundamentalFrequenciesExtractor()\n",
    "            fs, sig = scipy.io.wavfile.read(path)\n",
    "            f0.append(ff.main(sig,fs))\n",
    "            gfc.append(gfccep(sig,fs))\n",
    "            lfc.append(lfccep(sig))\n",
    "            bfc.append(bfccep(sig))\n",
    "            sound = parselmouth.Sound(path)\n",
    "            (localJitter, localabsoluteJitter, rapJitter, ppq5Jitter, ddpJitter, \n",
    "     localShimmer, localdbShimmer, apq3Shimmer, aqpq5Shimmer, apq11Shimmer, ddaShimmer) = measurejitshim(\n",
    "        sound, 75, 300, \"Hertz\")\n",
    "            localJitter_list.append(localJitter)\n",
    "            localabsoluteJitter_list.append(localabsoluteJitter)\n",
    "            rapJitter_list.append(rapJitter)\n",
    "            ppq5Jitter_list.append(ppq5Jitter)\n",
    "            ddpJitter_list.append(ddpJitter)\n",
    "            localShimmer_list.append(localShimmer)\n",
    "            localdbShimmer_list.append(localdbShimmer)\n",
    "            apq3Shimmer_list.append(apq3Shimmer)\n",
    "            aqpq5Shimmer_list.append(aqpq5Shimmer)\n",
    "            apq11Shimmer_list.append(apq11Shimmer)\n",
    "            ddaShimmer_list.append(ddaShimmer)\n",
    "            status.append(0)\n",
    "df = pd.DataFrame(np.column_stack([ \n",
    "                                   localJitter_list, localabsoluteJitter_list, rapJitter_list, \n",
    "                                   ppq5Jitter_list, ddpJitter_list]),\n",
    "                                   columns=[ \n",
    "                                            'localJitter', 'localabsoluteJitter', 'rapJitter', \n",
    "                                            'ppq5Jitter', 'ddpJitter'])\n",
    "df=df.fillna(0)\n",
    "pcaJitter = runPCA(df,1)\n",
    "df = pd.DataFrame(np.column_stack([ \n",
    "                                   localShimmer_list, \n",
    "                                   localdbShimmer_list, apq3Shimmer_list, aqpq5Shimmer_list, \n",
    "                                   apq11Shimmer_list, ddaShimmer_list]),\n",
    "                                   columns=[ 'localShimmer', \n",
    "                                            'localdbShimmer', 'apq3Shimmer', 'apq5Shimmer', \n",
    "                                            'apq11Shimmer', 'ddaShimmer'])\n",
    "df=df.fillna(0)\n",
    "pcaShimmer = runPCA(df,2)\n",
    "\n",
    "df = pd.concat([pcaJitter, pcaShimmer], axis=1)\n",
    "#df.to_csv(\"healthy_results.csv\", index=False)\n",
    "jit=df[\"JitterPCA\"].values.tolist()\n",
    "shim=df[\"ShimmerPCA\"].values.tolist()\n",
    "val=zip(f0,mf,spc,spr,hnr,gfc,lfc,bfc,jit,shim,status)\n",
    "head=[\"F0\",\"MFCC\",\"Spectral centroid\",\"Spectral Rolloff\",\"HNR\",\"gfcc\",\"lfcc\",\"bfcc\",\"pcaJitter\",\"pcaShimmer\",\"status\"]\n",
    "with open('healthy_all.csv','w',newline='') as fp:\n",
    "    a=csv.writer(fp)\n",
    "    a.writerow(head)\n",
    "    for p in val:\n",
    "        a.writerow(p)"
   ]
  },
  {
   "cell_type": "code",
   "execution_count": 62,
   "id": "759181df-07a8-42e1-aa22-227a12a6b856",
   "metadata": {},
   "outputs": [
    {
     "name": "stdout",
     "output_type": "stream",
     "text": [
      "File found! Processing...\n"
     ]
    }
   ],
   "source": [
    "file_path = r\"C:\\Users\\varun\\Desktop\\mini\\sample_0.wav\"\n",
    "\n",
    "if not os.path.exists(file_path):\n",
    "    print(f\"Error: The file '{file_path}' does not exist.\")\n",
    "else:\n",
    "    print(\"File found! Processing...\")\n",
    "    # Load your file here\n"
   ]
  },
  {
   "cell_type": "code",
   "execution_count": 46,
   "id": "de6ce991-dbf6-4875-b6f8-b469622afd25",
   "metadata": {},
   "outputs": [
    {
     "name": "stdout",
     "output_type": "stream",
     "text": [
      "Collecting spafe\n",
      "  Downloading spafe-0.3.3-py3-none-any.whl.metadata (9.0 kB)\n",
      "Requirement already satisfied: numpy>=1.21 in c:\\users\\varun\\anaconda3\\lib\\site-packages (from spafe) (1.26.4)\n",
      "Requirement already satisfied: scipy>=1.7.3 in c:\\users\\varun\\anaconda3\\lib\\site-packages (from spafe) (1.13.1)\n",
      "Requirement already satisfied: typing-extensions in c:\\users\\varun\\anaconda3\\lib\\site-packages (from spafe) (4.11.0)\n",
      "Downloading spafe-0.3.3-py3-none-any.whl (93 kB)\n",
      "Installing collected packages: spafe\n",
      "Successfully installed spafe-0.3.3\n"
     ]
    }
   ],
   "source": [
    "!pip install spafe\n",
    "\n",
    "\n",
    "\n"
   ]
  },
  {
   "cell_type": "code",
   "execution_count": 48,
   "id": "06b26467",
   "metadata": {
    "scrolled": true
   },
   "outputs": [
    {
     "name": "stderr",
     "output_type": "stream",
     "text": [
      "<>:212: SyntaxWarning: invalid escape sequence '\\p'\n",
      "<>:221: SyntaxWarning: invalid escape sequence '\\p'\n",
      "<>:225: SyntaxWarning: invalid escape sequence '\\p'\n",
      "<>:212: SyntaxWarning: invalid escape sequence '\\p'\n",
      "<>:221: SyntaxWarning: invalid escape sequence '\\p'\n",
      "<>:225: SyntaxWarning: invalid escape sequence '\\p'\n",
      "C:\\Users\\varun\\AppData\\Local\\Temp\\ipykernel_12664\\2138444195.py:212: SyntaxWarning: invalid escape sequence '\\p'\n",
      "  h=os.listdir(\"D:\\praveen backup\\kpk\\sem-6\\mini project\\DataSet\\positive\")\n",
      "C:\\Users\\varun\\AppData\\Local\\Temp\\ipykernel_12664\\2138444195.py:221: SyntaxWarning: invalid escape sequence '\\p'\n",
      "  q=os.listdir(\"D:\\praveen backup\\kpk\\sem-6\\mini project\\DataSet\\positive/\"+i)\n",
      "C:\\Users\\varun\\AppData\\Local\\Temp\\ipykernel_12664\\2138444195.py:225: SyntaxWarning: invalid escape sequence '\\p'\n",
      "  path=\"D:\\praveen backup\\kpk\\sem-6\\mini project\\DataSet\\positive/\"+i+\"/\"+ q[j]\n"
     ]
    },
    {
     "ename": "FileNotFoundError",
     "evalue": "[WinError 3] The system cannot find the path specified: 'D:\\\\praveen backup\\\\kpk\\\\sem-6\\\\mini project\\\\DataSet\\\\positive'",
     "output_type": "error",
     "traceback": [
      "\u001b[1;31m---------------------------------------------------------------------------\u001b[0m",
      "\u001b[1;31mFileNotFoundError\u001b[0m                         Traceback (most recent call last)",
      "Cell \u001b[1;32mIn[48], line 212\u001b[0m\n\u001b[0;32m    208\u001b[0m             \u001b[38;5;28;01mreturn\u001b[39;00m avg\n\u001b[0;32m    209\u001b[0m         \u001b[38;5;28;01mreturn\u001b[39;00m \u001b[38;5;241m0\u001b[39m\n\u001b[1;32m--> 212\u001b[0m h\u001b[38;5;241m=\u001b[39mos\u001b[38;5;241m.\u001b[39mlistdir(\u001b[38;5;124m\"\u001b[39m\u001b[38;5;124mD:\u001b[39m\u001b[38;5;124m\\\u001b[39m\u001b[38;5;124mpraveen backup\u001b[39m\u001b[38;5;124m\\\u001b[39m\u001b[38;5;124mkpk\u001b[39m\u001b[38;5;124m\\\u001b[39m\u001b[38;5;124msem-6\u001b[39m\u001b[38;5;124m\\\u001b[39m\u001b[38;5;124mmini project\u001b[39m\u001b[38;5;124m\\\u001b[39m\u001b[38;5;124mDataSet\u001b[39m\u001b[38;5;124m\\\u001b[39m\u001b[38;5;124mpositive\u001b[39m\u001b[38;5;124m\"\u001b[39m)\n\u001b[0;32m    213\u001b[0m mf\u001b[38;5;241m=\u001b[39m[]\n\u001b[0;32m    214\u001b[0m spr\u001b[38;5;241m=\u001b[39m[]\n",
      "\u001b[1;31mFileNotFoundError\u001b[0m: [WinError 3] The system cannot find the path specified: 'D:\\\\praveen backup\\\\kpk\\\\sem-6\\\\mini project\\\\DataSet\\\\positive'"
     ]
    }
   ],
   "source": [
    "import csv\n",
    "import glob\n",
    "import numpy as np\n",
    "import pandas as pd\n",
    "import parselmouth \n",
    "import statistics\n",
    "import spafe.utils.vis as vis\n",
    "from spafe.features.gfcc import gfcc\n",
    "from parselmouth.praat import call\n",
    "from scipy.stats.mstats import zscore\n",
    "from sklearn.decomposition import PCA\n",
    "from sklearn.preprocessing import StandardScaler\n",
    "import time\n",
    "import scipy\n",
    "import scipy.io.wavfile\n",
    "from scipy import signal\n",
    "import matplotlib.pyplot as plt\n",
    "import IPython\n",
    "import os\n",
    "import librosa\n",
    "def mfcc(r):\n",
    "    y, sr = librosa.load(r)\n",
    "    p=librosa.feature.mfcc(y=y, sr=sr, n_mfcc=1)\n",
    "    freq=[]\n",
    "    for i in p[0]:\n",
    "        if i!=0.0 :\n",
    "            freq.append(i)\n",
    "    avg = sum(freq)/len(freq)\n",
    "    return avg\n",
    "\n",
    "def sperolloff(r):\n",
    "    y, sr = librosa.load(r)\n",
    "    p=librosa.feature.spectral_rolloff(y=y, sr=sr)\n",
    "    freq=[]\n",
    "    for i in p[0]:\n",
    "        if i!=0.0 :\n",
    "            freq.append(i)\n",
    "    if len(freq)!=0:\n",
    "        avg = sum(freq)/len(freq)\n",
    "        return avg\n",
    "    return 0\n",
    "\n",
    "def specentroid(r):\n",
    "    y, sr = librosa.load(r)\n",
    "    p=librosa.feature.spectral_centroid(y=y, sr=sr)\n",
    "    freq=[]\n",
    "    for i in p[0]:\n",
    "        if i!=0.0 :\n",
    "            freq.append(i)\n",
    "    if len(freq)!=0:\n",
    "        avg = sum(freq)/len(freq)\n",
    "        return avg\n",
    "    return 0\n",
    "\n",
    "def measurePitch(voiceID, f0min, f0max, unit):\n",
    "    harmonicity = call(sound, \"To Harmonicity (cc)\", 0.01, f0min, 0.1, 1.0)\n",
    "    hnr = call(harmonicity, \"Get mean\", 0, 0)   \n",
    "    return hnr\n",
    "\n",
    "def gfccep(sig,fs):\n",
    "    a=[]\n",
    "    try:\n",
    "        gfccs  = gfcc(sig,fs=fs)\n",
    "        for i in gfccs:\n",
    "            x=sum(i)/len(i)\n",
    "            a.append(x)\n",
    "        x=sum(a)/len(a)\n",
    "        x=float(str(x)[:6])\n",
    "        return x \n",
    "    except:\n",
    "        return 0  \n",
    "\n",
    "def bfccep(sig):\n",
    "    a=[]\n",
    "    bfccs  = bfcc(sig,fs=16000,num_ceps=13)\n",
    "    for i in bfccs:\n",
    "        x=sum(i)/len(i)\n",
    "        a.append(x)\n",
    "    x=sum(a)/len(a)\n",
    "    return x\n",
    "\n",
    "def lfccep(sig):\n",
    "    a=[]\n",
    "    lfccs  = lfcc(sig,fs=16000,num_ceps=13)\n",
    "    for i in lfccs:\n",
    "        x=sum(i)/len(i)\n",
    "        a.append(x)\n",
    "    x=sum(a)/len(a)\n",
    "    x=float(str(x)[:6])\n",
    "    return x\n",
    "\n",
    "def measurejitshim(voiceID, f0min, f0max, unit):\n",
    "    sound = parselmouth.Sound(voiceID) # read the sound\n",
    "    duration = call(sound, \"Get total duration\") # duration\n",
    "    pitch = call(sound, \"To Pitch\", 0.0, f0min, f0max) #create a praat pitch object\n",
    "    meanF0 = call(pitch, \"Get mean\", 0, 0, unit) # get mean pitch\n",
    "    stdevF0 = call(pitch, \"Get standard deviation\", 0 ,0, unit) # get standard deviation\n",
    "    harmonicity = call(sound, \"To Harmonicity (cc)\", 0.01, f0min, 0.1, 1.0)\n",
    "    hnr = call(harmonicity, \"Get mean\", 0, 0)\n",
    "    pointProcess = call(sound, \"To PointProcess (periodic, cc)\", f0min, f0max)\n",
    "    localJitter = call(pointProcess, \"Get jitter (local)\", 0, 0, 0.0001, 0.02, 1.3)\n",
    "    localabsoluteJitter = call(pointProcess, \"Get jitter (local, absolute)\", 0, 0, 0.0001, 0.02, 1.3)\n",
    "    rapJitter = call(pointProcess, \"Get jitter (rap)\", 0, 0, 0.0001, 0.02, 1.3)\n",
    "    ppq5Jitter = call(pointProcess, \"Get jitter (ppq5)\", 0, 0, 0.0001, 0.02, 1.3)\n",
    "    ddpJitter = call(pointProcess, \"Get jitter (ddp)\", 0, 0, 0.0001, 0.02, 1.3)\n",
    "    localShimmer =  call([sound, pointProcess], \"Get shimmer (local)\", 0, 0, 0.0001, 0.02, 1.3, 1.6)\n",
    "    localdbShimmer = call([sound, pointProcess], \"Get shimmer (local_dB)\", 0, 0, 0.0001, 0.02, 1.3, 1.6)\n",
    "    apq3Shimmer = call([sound, pointProcess], \"Get shimmer (apq3)\", 0, 0, 0.0001, 0.02, 1.3, 1.6)\n",
    "    aqpq5Shimmer = call([sound, pointProcess], \"Get shimmer (apq5)\", 0, 0, 0.0001, 0.02, 1.3, 1.6)\n",
    "    apq11Shimmer =  call([sound, pointProcess], \"Get shimmer (apq11)\", 0, 0, 0.0001, 0.02, 1.3, 1.6)\n",
    "    ddaShimmer = call([sound, pointProcess], \"Get shimmer (dda)\", 0, 0, 0.0001, 0.02, 1.3, 1.6)\n",
    "    return localJitter, localabsoluteJitter, rapJitter, ppq5Jitter, ddpJitter, localShimmer, localdbShimmer, apq3Shimmer, aqpq5Shimmer, apq11Shimmer, ddaShimmer\n",
    "\n",
    "\n",
    "def runPCA(df,i):\n",
    "    # z-score the Jitter and Shimmer measurements\n",
    "    pca = PCA(n_components=1)\n",
    "    x = df\n",
    "    principalComponents = pca.fit_transform(x)\n",
    "    if i==1:\n",
    "        principalDf = pd.DataFrame(data = principalComponents, columns = ['JitterPCA'])\n",
    "    else:\n",
    "        principalDf = pd.DataFrame(data = principalComponents, columns = ['ShimmerPCA'])\n",
    "    return principalDf\n",
    "localJitter_list = []\n",
    "localabsoluteJitter_list = []\n",
    "rapJitter_list = []\n",
    "ppq5Jitter_list = []\n",
    "ddpJitter_list = []\n",
    "localShimmer_list = []\n",
    "localdbShimmer_list = []\n",
    "apq3Shimmer_list = []\n",
    "aqpq5Shimmer_list = []\n",
    "apq11Shimmer_list = []\n",
    "ddaShimmer_list = []\n",
    "\n",
    "class FundamentalFrequenciesExtractor:\n",
    "    def __init__(self, debug=False):\n",
    "        self.debug = debug\n",
    "\n",
    "    def differenceFunction(self, x, N, tau_max):\n",
    "        x = np.array(x, np.float64)\n",
    "        w = x.size\n",
    "        x_cumsum = np.concatenate((np.array([0]), (x * x).cumsum()))\n",
    "        conv = scipy.signal.fftconvolve(x, x[::-1])\n",
    "        tmp = x_cumsum[w:0:-1] + x_cumsum[w] - x_cumsum[:w] - 2 * conv[w - 1:]\n",
    "        return tmp[:tau_max]\n",
    "\n",
    "    def cumulativeMeanNormalizedDifferenceFunction(self, df, N):\n",
    "        cmndf = df[1:] * range(1, N) / np.cumsum(df[1:]).astype(float)  # scipy method\n",
    "        return np.insert(cmndf, 0, 1)\n",
    "\n",
    "    def getPitch(self, cmdf, tau_min, tau_max, harmo_th=0.1):\n",
    "        tau = tau_min\n",
    "        while tau < tau_max:\n",
    "            if cmdf[tau] < harmo_th:\n",
    "                while tau + 1 < tau_max and cmdf[tau + 1] < cmdf[tau]:\n",
    "                    tau += 1\n",
    "                return tau\n",
    "            tau += 1\n",
    "\n",
    "        return 0  # if unvoiced\n",
    "\n",
    "    def compute_yin(self,sig,fs,dataFileName=None,w_len=512,w_step=256,f0_min=50,f0_max=3000,harmo_thresh=0.1):\n",
    "        if self.debug:\n",
    "            print('Yin: compute yin algorithm')\n",
    "        tau_min, tau_max = int(fs / f0_max), int(fs / f0_min)\n",
    "\n",
    "        timeScale = range(0,\n",
    "                          len(sig) - w_len,\n",
    "                          w_step)  # time values for each analysis window\n",
    "        times = [t / float(fs) for t in timeScale]\n",
    "        frames = [sig[t:t + w_len] for t in timeScale]\n",
    "\n",
    "        pitches = [0.0] * len(timeScale)\n",
    "        harmonic_rates = [0.0] * len(timeScale)\n",
    "        argmins = [0.0] * len(timeScale)\n",
    "\n",
    "        for i, frame in enumerate(frames):\n",
    "            # Compute YIN\n",
    "            df = self.differenceFunction(frame, w_len, tau_max)\n",
    "            cmdf = self.cumulativeMeanNormalizedDifferenceFunction(df, tau_max)\n",
    "            p = self.getPitch(cmdf, tau_min, tau_max, harmo_thresh)\n",
    "\n",
    "            # Get results\n",
    "            if np.argmin(cmdf) > tau_min:\n",
    "                argmins[i] = float(fs / np.argmin(cmdf))\n",
    "            #  A pitch was found\n",
    "            if p != 0:\n",
    "                pitches[i] = float(fs / p)\n",
    "                harmonic_rates[i] = cmdf[p]\n",
    "            #  No pitch, but we compute a value of the harmonic rate\n",
    "            else:\n",
    "                harmonic_rates[i] = min(cmdf)\n",
    "\n",
    "        return pitches, harmonic_rates, argmins, times\n",
    "\n",
    "    def main(self,sig,fs,w_len=1024,w_step=256,f0_min=70,f0_max=200,harmo_thresh=0.85,audioDir=\"./\",dataFileName=None):\n",
    "        start = time.time()\n",
    "        duration = len(sig) / float(fs)\n",
    "        pitches, harmonic_rates, argmins, times = self.compute_yin(sig, fs, dataFileName, w_len, w_step, f0_min, f0_max, harmo_thresh)\n",
    "        freq=[]\n",
    "        for i in pitches:\n",
    "            if i!=0.0 :\n",
    "                freq.append(i)\n",
    "        if len(freq)!=0:\n",
    "            avg = sum(freq)/len(freq)\n",
    "            return avg\n",
    "        return 0\n",
    "    \n",
    "    \n",
    "h=os.listdir(\"D:\\praveen backup\\kpk\\sem-6\\mini project\\DataSet\\positive\")\n",
    "mf=[]\n",
    "spr=[]\n",
    "spc=[]\n",
    "hnr=[]\n",
    "f0=[]\n",
    "gfc=[]\n",
    "status=[]\n",
    "for i in h:\n",
    "    q=os.listdir(\"D:\\praveen backup\\kpk\\sem-6\\mini project\\DataSet\\positive/\"+i)\n",
    "    for z in q:\n",
    "        if '.wav' in z:\n",
    "            j=q.index(z)\n",
    "            path=\"D:\\praveen backup\\kpk\\sem-6\\mini project\\DataSet\\positive/\"+i+\"/\"+ q[j]\n",
    "            mf.append(mfcc(path))\n",
    "            spr.append(sperolloff(path))\n",
    "            spc.append(specentroid(path))\n",
    "            sound = parselmouth.Sound(path)\n",
    "            hnr.append(measurePitch(sound, 75, 300, \"Hertz\"))\n",
    "            ff=FundamentalFrequenciesExtractor()\n",
    "            fs, sig = scipy.io.wavfile.read(path)\n",
    "            f0.append(ff.main(sig,fs))\n",
    "            gfc.append(gfccep(sig,fs))\n",
    "            lfc.append(lfccep(sig))\n",
    "            bfc.append(bfccep(sig))\n",
    "            sound = parselmouth.Sound(path)\n",
    "            (localJitter, localabsoluteJitter, rapJitter, ppq5Jitter, ddpJitter, \n",
    "     localShimmer, localdbShimmer, apq3Shimmer, aqpq5Shimmer, apq11Shimmer, ddaShimmer) = measurejitshim(\n",
    "        sound, 75, 300, \"Hertz\")\n",
    "            localJitter_list.append(localJitter)\n",
    "            localabsoluteJitter_list.append(localabsoluteJitter)\n",
    "            rapJitter_list.append(rapJitter)\n",
    "            ppq5Jitter_list.append(ppq5Jitter)\n",
    "            ddpJitter_list.append(ddpJitter)\n",
    "            localShimmer_list.append(localShimmer)\n",
    "            localdbShimmer_list.append(localdbShimmer)\n",
    "            apq3Shimmer_list.append(apq3Shimmer)\n",
    "            aqpq5Shimmer_list.append(aqpq5Shimmer)\n",
    "            apq11Shimmer_list.append(apq11Shimmer)\n",
    "            ddaShimmer_list.append(ddaShimmer)\n",
    "            status.append(1)\n",
    "df = pd.DataFrame(np.column_stack([ \n",
    "                                   localJitter_list, localabsoluteJitter_list, rapJitter_list, \n",
    "                                   ppq5Jitter_list, ddpJitter_list]),\n",
    "                                   columns=[ \n",
    "                                            'localJitter', 'localabsoluteJitter', 'rapJitter', \n",
    "                                            'ppq5Jitter', 'ddpJitter'])\n",
    "df=df.fillna(0)\n",
    "pcaJitter = runPCA(df,1)\n",
    "df = pd.DataFrame(np.column_stack([ \n",
    "                                   localShimmer_list, \n",
    "                                   localdbShimmer_list, apq3Shimmer_list, aqpq5Shimmer_list, \n",
    "                                   apq11Shimmer_list, ddaShimmer_list]),\n",
    "                                   columns=[ 'localShimmer', \n",
    "                                            'localdbShimmer', 'apq3Shimmer', 'apq5Shimmer', \n",
    "                                            'apq11Shimmer', 'ddaShimmer'])\n",
    "df=df.fillna(0)\n",
    "pcaShimmer = runPCA(df,2)\n",
    "\n",
    "df = pd.concat([pcaJitter, pcaShimmer], axis=1)\n",
    "jit=df[\"JitterPCA\"].values.tolist()\n",
    "shim=df[\"ShimmerPCA\"].values.tolist()\n",
    "val=zip(f0,mf,spc,spr,hnr,gfc,lfc,bfc,jit,shim,status)\n",
    "head=[\"F0\",\"MFCC\",\"Spectral centroid\",\"Spectral Rolloff\",\"HNR\",\"gfcc\",\"lfcc\",\"bfcc\",\"pcaJitter\",\"pcaShimmer\",\"status\"]\n",
    "with open('positive_all.csv','w',newline='') as fp:\n",
    "    a=csv.writer(fp)\n",
    "    a.writerow(head)\n",
    "    for p in val:\n",
    "        a.writerow(p)"
   ]
  },
  {
   "cell_type": "code",
   "execution_count": 9,
   "id": "731c30d7",
   "metadata": {},
   "outputs": [
    {
     "name": "stdout",
     "output_type": "stream",
     "text": [
      "Model accuracy score with default hyperparameters: 0.9073\n",
      "Training-set accuracy score: 0.8865\n",
      "Training set score: 0.8865\n",
      "Test set score: 0.9073\n",
      "[[225   0]\n",
      " [ 23   0]]\n",
      "Accuracy 0.907258064516129\n",
      "Precision 1.0\n",
      "f_score 0.9513742071881607\n",
      "recall 0.907258064516129\n",
      "specificity nan\n",
      "auc 0.5\n"
     ]
    },
    {
     "name": "stderr",
     "output_type": "stream",
     "text": [
      "C:\\Users\\varun\\AppData\\Local\\Temp\\ipykernel_8148\\1859483870.py:48: RuntimeWarning: invalid value encountered in divide\n",
      "  specificity = TN/float(TN+FP)\n"
     ]
    }
   ],
   "source": [
    "import pandas as pd\n",
    "import numpy as np\n",
    "from sklearn.model_selection import train_test_split\n",
    "from sklearn.preprocessing import StandardScaler\n",
    "from sklearn.svm import SVC\n",
    "from sklearn.metrics import confusion_matrix,accuracy_score, precision_score, recall_score, f1_score,roc_auc_score\n",
    "from sklearn.impute import SimpleImputer\n",
    "df = pd.read_csv(\"allsounds.csv\")\n",
    "\n",
    "imputer = SimpleImputer(missing_values=np.nan, strategy='mean')\n",
    "X=df.iloc[:, :-1].values\n",
    "imputer.fit(X)\n",
    "X = imputer.transform(X)\n",
    "#df=df.dropna()\n",
    "#X=df.drop(['status'],axis=1)\n",
    "Y=df['status']\n",
    "\n",
    "X_train, X_test, Y_train, Y_test = train_test_split(X, Y, test_size = 0.33 ,random_state = 11)\n",
    "#cols=X_train.columns\n",
    "\n",
    "\n",
    "scaler = StandardScaler()\n",
    "X_train = scaler.fit_transform(X_train)\n",
    "X_test = scaler.transform(X_test)\n",
    "\n",
    "X_train=pd.DataFrame(X_train)#,columns=[cols]\n",
    "X_test=pd.DataFrame(X_test)#,columns=[cols]\n",
    "X_train.describe()\n",
    "\n",
    "svc=SVC(kernel='rbf',C=1.0) \n",
    "svc.fit(X_train,Y_train)\n",
    "Y_pred=svc.predict(X_test)\n",
    "print('Model accuracy score with default hyperparameters: {0:0.4f}'. format(accuracy_score(Y_test, Y_pred)))\n",
    "\n",
    "Y_pred_train =svc.predict(X_train)\n",
    "print('Training-set accuracy score: {0:0.4f}'. format(accuracy_score(Y_train, Y_pred_train)))\n",
    "\n",
    "print('Training set score: {:.4f}'.format(svc.score(X_train, Y_train)))\n",
    "print('Test set score: {:.4f}'.format(svc.score(X_test, Y_test)))\n",
    "conf_mat = confusion_matrix(Y_test, Y_pred)\n",
    "print(conf_mat)\n",
    "TP = conf_mat[0][0]\n",
    "FP = conf_mat[0][1]\n",
    "FN = conf_mat[1][0]\n",
    "TN = conf_mat[1][1]\n",
    "total = TP+FP+TN+FN\n",
    "TPR = TP/float(TP+FN)\n",
    "specificity = TN/float(TN+FP)\n",
    "Precision = TP/float(TP+FP)\n",
    "recall=TPR\n",
    "Accuracy = (TP+TN)/(TP+FP+FN+TN)\n",
    "f_score = (2*TPR*Precision)/(TPR+Precision)\n",
    "auc = roc_auc_score(Y_test, Y_pred)\n",
    "print('Accuracy',Accuracy)\n",
    "print('Precision',Precision)\n",
    "print('f_score',f_score)\n",
    "print('recall',recall)\n",
    "print('specificity',specificity)\n",
    "print('auc',auc)"
   ]
  },
  {
   "cell_type": "code",
   "execution_count": 17,
   "id": "1a1af2da",
   "metadata": {},
   "outputs": [
    {
     "name": "stdout",
     "output_type": "stream",
     "text": [
      "Model accuracy score with default hyperparameters: 0.8933\n",
      "Training-set accuracy score: 0.8900\n",
      "Training set score: 0.8900\n",
      "Test set score: 0.8933\n",
      "[[134   0]\n",
      " [ 16   0]]\n",
      "Accuracy 0.8933333333333333\n",
      "Precision 1.0\n",
      "f_score 0.9436619718309859\n",
      "recall 0.8933333333333333\n",
      "specificity nan\n",
      "auc 0.5\n"
     ]
    },
    {
     "name": "stderr",
     "output_type": "stream",
     "text": [
      "C:\\Users\\varun\\AppData\\Local\\Temp\\ipykernel_12664\\3015633545.py:47: RuntimeWarning: invalid value encountered in divide\n",
      "  specificity = TN/float(TN+FP)\n"
     ]
    }
   ],
   "source": [
    "import pandas as pd\n",
    "import numpy as np\n",
    "from sklearn.model_selection import train_test_split\n",
    "from sklearn.preprocessing import StandardScaler\n",
    "from sklearn.svm import SVC\n",
    "from sklearn.metrics import confusion_matrix,accuracy_score, precision_score, recall_score, f1_score,roc_auc_score\n",
    "from sklearn.impute import SimpleImputer\n",
    "\n",
    "df=pd.read_csv('allsounds.csv')\n",
    "imputer = SimpleImputer(missing_values=np.nan, strategy='mean')\n",
    "X=df.iloc[:, :-1].values\n",
    "imputer.fit(X)\n",
    "X = imputer.transform(X)\n",
    "#df=df.dropna()\n",
    "#X=df.drop(['status'],axis=1)\n",
    "Y=df['status']\n",
    "X_train, X_test, Y_train, Y_test = train_test_split(X, Y, test_size = 0.2, random_state = 11)\n",
    "#cols=X_train.columns\n",
    "\n",
    "\n",
    "scaler = StandardScaler()\n",
    "X_train = scaler.fit_transform(X_train)\n",
    "X_test = scaler.transform(X_test)\n",
    "\n",
    "X_train=pd.DataFrame(X_train)#,columns=[cols]\n",
    "X_test=pd.DataFrame(X_test)#,columns=[cols]\n",
    "X_train.describe()\n",
    "\n",
    "linear_svc=SVC(kernel='linear', C=1.0)\n",
    "linear_svc.fit(X_train,Y_train)\n",
    "Y_pred=linear_svc.predict(X_test)\n",
    "print('Model accuracy score with default hyperparameters: {0:0.4f}'. format(accuracy_score(Y_test, Y_pred)))\n",
    "\n",
    "Y_pred_train = linear_svc.predict(X_train)\n",
    "print('Training-set accuracy score: {0:0.4f}'. format(accuracy_score(Y_train, Y_pred_train)))\n",
    "\n",
    "print('Training set score: {:.4f}'.format(linear_svc.score(X_train, Y_train)))\n",
    "print('Test set score: {:.4f}'.format(linear_svc.score(X_test, Y_test)))\n",
    "conf_mat = confusion_matrix(Y_test, Y_pred)\n",
    "print(conf_mat)\n",
    "TP = conf_mat[0][0]\n",
    "FP = conf_mat[0][1]\n",
    "FN = conf_mat[1][0]\n",
    "TN = conf_mat[1][1]\n",
    "total = TP+FP+TN+FN\n",
    "TPR = TP/float(TP+FN)\n",
    "specificity = TN/float(TN+FP)\n",
    "Precision = TP/float(TP+FP)\n",
    "recall=TPR\n",
    "Accuracy = (TP+TN)/(TP+FP+FN+TN)\n",
    "f_score = (2*TPR*Precision)/(TPR+Precision)\n",
    "auc = roc_auc_score(Y_test, Y_pred)\n",
    "print('Accuracy',Accuracy)\n",
    "print('Precision',Precision)\n",
    "print('f_score',f_score)\n",
    "print('recall',recall)\n",
    "print('specificity',specificity)\n",
    "print('auc',auc)"
   ]
  },
  {
   "cell_type": "code",
   "execution_count": 19,
   "id": "b79e227f",
   "metadata": {},
   "outputs": [
    {
     "name": "stdout",
     "output_type": "stream",
     "text": [
      "Fitting 3 folds for each of 50 candidates, totalling 150 fits\n",
      "Random grid:  {'n_estimators': [5, 20, 50, 100], 'max_features': ['auto', 'sqrt'], 'criterion': ['entropy', 'gini'], 'max_depth': [10, 77, 144, 211, 279, 346, 413, 480, 548, 615, 682, 750], 'min_samples_split': [2, 6, 10], 'min_samples_leaf': [1, 3, 4], 'bootstrap': [True, False]} \n",
      "\n",
      "Best Parameters:  {'n_estimators': 100, 'min_samples_split': 10, 'min_samples_leaf': 1, 'max_features': 'sqrt', 'max_depth': 211, 'criterion': 'gini', 'bootstrap': True}  \n",
      "\n"
     ]
    },
    {
     "name": "stderr",
     "output_type": "stream",
     "text": [
      "C:\\Users\\varun\\anaconda3\\Lib\\site-packages\\sklearn\\model_selection\\_validation.py:540: FitFailedWarning: \n",
      "72 fits failed out of a total of 150.\n",
      "The score on these train-test partitions for these parameters will be set to nan.\n",
      "If these failures are not expected, you can try to debug them by setting error_score='raise'.\n",
      "\n",
      "Below are more details about the failures:\n",
      "--------------------------------------------------------------------------------\n",
      "53 fits failed with the following error:\n",
      "Traceback (most recent call last):\n",
      "  File \"C:\\Users\\varun\\anaconda3\\Lib\\site-packages\\sklearn\\model_selection\\_validation.py\", line 888, in _fit_and_score\n",
      "    estimator.fit(X_train, y_train, **fit_params)\n",
      "  File \"C:\\Users\\varun\\anaconda3\\Lib\\site-packages\\sklearn\\base.py\", line 1466, in wrapper\n",
      "    estimator._validate_params()\n",
      "  File \"C:\\Users\\varun\\anaconda3\\Lib\\site-packages\\sklearn\\base.py\", line 666, in _validate_params\n",
      "    validate_parameter_constraints(\n",
      "  File \"C:\\Users\\varun\\anaconda3\\Lib\\site-packages\\sklearn\\utils\\_param_validation.py\", line 95, in validate_parameter_constraints\n",
      "    raise InvalidParameterError(\n",
      "sklearn.utils._param_validation.InvalidParameterError: The 'max_features' parameter of RandomForestClassifier must be an int in the range [1, inf), a float in the range (0.0, 1.0], a str among {'log2', 'sqrt'} or None. Got 'auto' instead.\n",
      "\n",
      "--------------------------------------------------------------------------------\n",
      "19 fits failed with the following error:\n",
      "Traceback (most recent call last):\n",
      "  File \"C:\\Users\\varun\\anaconda3\\Lib\\site-packages\\sklearn\\model_selection\\_validation.py\", line 888, in _fit_and_score\n",
      "    estimator.fit(X_train, y_train, **fit_params)\n",
      "  File \"C:\\Users\\varun\\anaconda3\\Lib\\site-packages\\sklearn\\base.py\", line 1466, in wrapper\n",
      "    estimator._validate_params()\n",
      "  File \"C:\\Users\\varun\\anaconda3\\Lib\\site-packages\\sklearn\\base.py\", line 666, in _validate_params\n",
      "    validate_parameter_constraints(\n",
      "  File \"C:\\Users\\varun\\anaconda3\\Lib\\site-packages\\sklearn\\utils\\_param_validation.py\", line 95, in validate_parameter_constraints\n",
      "    raise InvalidParameterError(\n",
      "sklearn.utils._param_validation.InvalidParameterError: The 'max_features' parameter of RandomForestClassifier must be an int in the range [1, inf), a float in the range (0.0, 1.0], a str among {'sqrt', 'log2'} or None. Got 'auto' instead.\n",
      "\n",
      "  warnings.warn(some_fits_failed_message, FitFailedWarning)\n",
      "C:\\Users\\varun\\anaconda3\\Lib\\site-packages\\sklearn\\model_selection\\_search.py:1102: UserWarning: One or more of the test scores are non-finite: [0.87047619 0.87238095        nan 0.88380952        nan        nan\n",
      " 0.88380952 0.87238095        nan 0.86857143        nan        nan\n",
      " 0.88              nan        nan 0.87809524 0.88190476 0.88380952\n",
      "        nan        nan        nan 0.87809524 0.87428571        nan\n",
      " 0.88952381        nan        nan 0.88       0.88571429        nan\n",
      " 0.88571429 0.88380952 0.85904762 0.88952381 0.8952381  0.88190476\n",
      "        nan 0.88380952 0.88190476 0.86857143        nan        nan\n",
      "        nan 0.87428571        nan        nan        nan 0.86857143\n",
      "        nan        nan]\n",
      "  warnings.warn(\n"
     ]
    }
   ],
   "source": [
    "import pandas as pd\n",
    "import numpy as np\n",
    "from sklearn.model_selection import train_test_split\n",
    "from sklearn.preprocessing import StandardScaler\n",
    "from sklearn.svm import SVC\n",
    "from sklearn.metrics import accuracy_score\n",
    "from sklearn.ensemble import RandomForestClassifier\n",
    "from sklearn.model_selection import RandomizedSearchCV\n",
    "from sklearn.metrics import confusion_matrix\n",
    "from sklearn.impute import SimpleImputer\n",
    "\n",
    "df=pd.read_csv('allsounds.csv')\n",
    "#df=df.dropna()\n",
    "\n",
    "#X=df.drop(['status'],axis=1)\n",
    "imputer = SimpleImputer(missing_values=np.nan, strategy='mean')\n",
    "X=df.iloc[:, :-1].values\n",
    "imputer.fit(X)\n",
    "X = imputer.transform(X)\n",
    "Y=df['status']\n",
    "\n",
    "X_train, X_test, Y_train, Y_test = train_test_split(X, Y, test_size = 0.3, random_state = 11)\n",
    "\n",
    "n_estimators = [5,20,50,100] # number of trees in the random forest\n",
    "max_features = ['auto', 'sqrt'] # number of features in consideration at every split\n",
    "max_depth = [int(x) for x in np.linspace(10, 750, num = 12)] # maximum number of levels allowed in each decision tree\n",
    "min_samples_split = [2, 6, 10] # minimum sample number to split a node\n",
    "min_samples_leaf = [1, 3, 4] # minimum sample number that can be stored in a leaf node\n",
    "bootstrap = [True, False] # method used to sample data points\n",
    "criterion=['entropy','gini']\n",
    "random_grid = {'n_estimators': n_estimators,\n",
    "\n",
    "'max_features': max_features,\n",
    "\n",
    "'criterion': criterion,\n",
    "               \n",
    "'max_depth': max_depth,\n",
    "\n",
    "'min_samples_split': min_samples_split,\n",
    "\n",
    "'min_samples_leaf': min_samples_leaf,\n",
    "\n",
    "'bootstrap': bootstrap}\n",
    "classifier = RandomForestClassifier()\n",
    "\n",
    "rf_random = RandomizedSearchCV(estimator = classifier,param_distributions = random_grid,n_iter = 50, cv = 3, verbose=2, random_state=0, n_jobs = -1)\n",
    "rf_random.fit(X_train, Y_train)\n",
    "print ('Random grid: ', random_grid, '\\n')\n",
    "# print the best parameters\n",
    "print ('Best Parameters: ', rf_random.best_params_, ' \\n')"
   ]
  },
  {
   "cell_type": "code",
   "execution_count": 20,
   "id": "d3659fa2",
   "metadata": {},
   "outputs": [
    {
     "name": "stdout",
     "output_type": "stream",
     "text": [
      "[[203   0]\n",
      " [ 21   1]]\n",
      "Training-set accuracy score: 0.9429\n",
      "Test-set accuracy score: 0.9067\n",
      "[[203   0]\n",
      " [ 21   1]]\n",
      "Accuracy 0.9066666666666666\n",
      "Precision 1.0\n",
      "f_score 0.9508196721311475\n",
      "recall 0.90625\n",
      "specificity 1.0\n",
      "auc 0.5227272727272727\n"
     ]
    }
   ],
   "source": [
    "import pandas as pd\n",
    "import numpy as np\n",
    "from sklearn.model_selection import train_test_split\n",
    "from sklearn.preprocessing import StandardScaler\n",
    "from sklearn.svm import SVC\n",
    "from sklearn.ensemble import RandomForestClassifier\n",
    "from sklearn.impute import SimpleImputer\n",
    "from sklearn.metrics import confusion_matrix,accuracy_score, precision_score, recall_score, f1_score,roc_auc_score\n",
    "\n",
    "df=pd.read_csv('allsounds.csv')\n",
    "#df=df.dropna()\n",
    "\n",
    "#X=df.drop(['status'],axis=1)\n",
    "imputer = SimpleImputer(missing_values=np.nan, strategy='mean')\n",
    "X=df.iloc[:, :-1].values\n",
    "imputer.fit(X)\n",
    "X = imputer.transform(X)\n",
    "Y=df['status']\n",
    "\n",
    "X_train, X_test, Y_train, Y_test = train_test_split(X, Y, test_size = 0.3, random_state = 11)\n",
    "#cols=X_train.columns\n",
    "\n",
    "\n",
    "scaler = StandardScaler()\n",
    "X_train = scaler.fit_transform(X_train)\n",
    "X_test = scaler.transform(X_test)\n",
    "\n",
    "X_train=pd.DataFrame(X_train)#,columns=[cols]\n",
    "X_test=pd.DataFrame(X_test)#\n",
    "X_train.describe()\n",
    "\n",
    "classifier = RandomForestClassifier(n_estimators = 100, criterion = 'gini',min_samples_split=10,min_samples_leaf=1,max_features='sqrt',max_depth=211,bootstrap=True)\n",
    "classifier.fit(X_train,Y_train)\n",
    "Y_Pred = classifier.predict(X_test)\n",
    "\n",
    "\n",
    "\n",
    "cm = confusion_matrix(Y_test, Y_Pred)\n",
    "print(cm)\n",
    "\n",
    "Y_pred_train = classifier.predict(X_train)\n",
    "Y_pred_test = classifier.predict(X_test)\n",
    "print('Training-set accuracy score: {0:0.4f}'. format(accuracy_score(Y_train, Y_pred_train)))\n",
    "print('Test-set accuracy score: {0:0.4f}'. format(accuracy_score(Y_test, Y_pred_test)))\n",
    "conf_mat = confusion_matrix(Y_test, Y_Pred)\n",
    "print(conf_mat)\n",
    "TP = conf_mat[0][0]\n",
    "FP = conf_mat[0][1]\n",
    "FN = conf_mat[1][0]\n",
    "TN = conf_mat[1][1]\n",
    "total = TP+FP+TN+FN\n",
    "TPR = TP/float(TP+FN)\n",
    "specificity = TN/float(TN+FP)\n",
    "Precision = TP/float(TP+FP)\n",
    "recall=TPR\n",
    "Accuracy = (TP+TN)/(TP+FP+FN+TN)\n",
    "f_score = (2*TPR*Precision)/(TPR+Precision)\n",
    "auc = roc_auc_score(Y_test, Y_Pred)\n",
    "print('Accuracy',Accuracy)\n",
    "print('Precision',Precision)\n",
    "print('f_score',f_score)\n",
    "print('recall',recall)\n",
    "print('specificity',specificity)\n",
    "print('auc',auc)"
   ]
  },
  {
   "cell_type": "code",
   "execution_count": 23,
   "id": "f51d441d",
   "metadata": {},
   "outputs": [
    {
     "name": "stdout",
     "output_type": "stream",
     "text": [
      "1.0\n",
      "0.92\n",
      "[[136   4]\n",
      " [  8   2]]\n",
      "Accuracy 0.92\n",
      "Precision 0.9714285714285714\n",
      "f_score 0.9577464788732395\n",
      "recall 0.9444444444444444\n",
      "specificity 0.3333333333333333\n",
      "auc 0.5857142857142857\n"
     ]
    },
    {
     "name": "stderr",
     "output_type": "stream",
     "text": [
      "C:\\Users\\varun\\anaconda3\\Lib\\site-packages\\xgboost\\core.py:158: UserWarning: [12:00:24] WARNING: C:\\buildkite-agent\\builds\\buildkite-windows-cpu-autoscaling-group-i-08cbc0333d8d4aae1-1\\xgboost\\xgboost-ci-windows\\src\\learner.cc:740: \n",
      "Parameters: { \"use_label_encoder\" } are not used.\n",
      "\n",
      "  warnings.warn(smsg, UserWarning)\n"
     ]
    }
   ],
   "source": [
    "import xgboost as xgb\n",
    "import pandas as pd\n",
    "import numpy as np\n",
    "from sklearn.model_selection import train_test_split\n",
    "from sklearn.preprocessing import StandardScaler\n",
    "from sklearn.metrics import confusion_matrix,accuracy_score, precision_score, recall_score, f1_score,roc_auc_score\n",
    "from sklearn.impute import SimpleImputer\n",
    "\n",
    "df=pd.read_csv('allsounds.csv')\n",
    "#X=df.drop(['status'],axis=1)\n",
    "X=df.drop(['status'], axis = 1)\n",
    "#df=df.dropna()\n",
    "#X=df.drop(['status'],axis=1)\n",
    "imputer = SimpleImputer(missing_values=np.nan, strategy='mean')\n",
    "#X=df.iloc[:, :-1].values\n",
    "imputer.fit(X)\n",
    "X = imputer.transform(X)\n",
    "Y=df['status']\n",
    "\n",
    "X_train, X_test, Y_train, Y_test = train_test_split(X, Y, test_size = 0.2, random_state = 31)\n",
    "#cols=X_train.columns\n",
    "\n",
    "scaler = StandardScaler()\n",
    "X_train = scaler.fit_transform(X_train)\n",
    "X_test = scaler.transform(X_test)\n",
    "\n",
    "X_train=pd.DataFrame(X_train)#,columns=[cols]\n",
    "X_test=pd.DataFrame(X_test)#,columns=[cols]\n",
    "xgb_model = xgb.XGBClassifier(objective=\"binary:logistic\",use_label_encoder =False, random_state=42)#reg:logistic\n",
    "xgb_model.fit(X_train, Y_train)\n",
    "print(xgb_model.score(X_train,Y_train))\n",
    "print(xgb_model.score(X_test,Y_test))\n",
    "y_pred = xgb_model.predict(X_test)\n",
    "\n",
    "conf_mat = confusion_matrix(Y_test, y_pred)\n",
    "print(conf_mat)\n",
    "TP = conf_mat[0][0]\n",
    "FP = conf_mat[0][1]\n",
    "FN = conf_mat[1][0]\n",
    "TN = conf_mat[1][1]\n",
    "total = TP+FP+TN+FN\n",
    "TPR = TP/float(TP+FN)\n",
    "specificity = TN/float(TN+FP)\n",
    "Precision = TP/float(TP+FP)\n",
    "Accuracy = (TP+TN)/(TP+FP+FN+TN)\n",
    "recall=TPR\n",
    "f_score = (2*TPR*Precision)/(TPR+Precision)\n",
    "auc = roc_auc_score(Y_test, y_pred)\n",
    "print('Accuracy',Accuracy)\n",
    "print('Precision',Precision)\n",
    "print('f_score',f_score)\n",
    "print('recall',recall)\n",
    "print('specificity',specificity)\n",
    "print('auc',auc)"
   ]
  },
  {
   "cell_type": "code",
   "execution_count": 25,
   "id": "7b1bba1e",
   "metadata": {},
   "outputs": [
    {
     "data": {
      "text/plain": [
       "(\"'bfcc',\",\n",
       " \"'gfcc','HNR','MFCC','F0','lfcc','pcaJitter','pcaShimmer','Spectral\",\n",
       " \"centroid','Spectral\",\n",
       " \"Rolloff'\")"
      ]
     },
     "execution_count": 25,
     "metadata": {},
     "output_type": "execute_result"
    }
   ],
   "source": [
    ", 'bfcc', 'gfcc','HNR','MFCC','F0','lfcc','pcaJitter','pcaShimmer','Spectral centroid','Spectral Rolloff'"
   ]
  },
  {
   "cell_type": "code",
   "execution_count": 27,
   "id": "176fc927-07a9-426a-82bd-6b3341dd6f0b",
   "metadata": {},
   "outputs": [
    {
     "name": "stdout",
     "output_type": "stream",
     "text": [
      "Requirement already satisfied: mlxtend in c:\\users\\varun\\anaconda3\\lib\\site-packages (0.23.4)\n",
      "Requirement already satisfied: scipy>=1.2.1 in c:\\users\\varun\\anaconda3\\lib\\site-packages (from mlxtend) (1.13.1)\n",
      "Requirement already satisfied: numpy>=1.16.2 in c:\\users\\varun\\anaconda3\\lib\\site-packages (from mlxtend) (1.26.4)\n",
      "Requirement already satisfied: pandas>=0.24.2 in c:\\users\\varun\\anaconda3\\lib\\site-packages (from mlxtend) (2.2.2)\n",
      "Requirement already satisfied: scikit-learn>=1.3.1 in c:\\users\\varun\\anaconda3\\lib\\site-packages (from mlxtend) (1.5.1)\n",
      "Requirement already satisfied: matplotlib>=3.0.0 in c:\\users\\varun\\anaconda3\\lib\\site-packages (from mlxtend) (3.9.2)\n",
      "Requirement already satisfied: joblib>=0.13.2 in c:\\users\\varun\\anaconda3\\lib\\site-packages (from mlxtend) (1.4.2)\n",
      "Requirement already satisfied: contourpy>=1.0.1 in c:\\users\\varun\\anaconda3\\lib\\site-packages (from matplotlib>=3.0.0->mlxtend) (1.2.0)\n",
      "Requirement already satisfied: cycler>=0.10 in c:\\users\\varun\\anaconda3\\lib\\site-packages (from matplotlib>=3.0.0->mlxtend) (0.11.0)\n",
      "Requirement already satisfied: fonttools>=4.22.0 in c:\\users\\varun\\anaconda3\\lib\\site-packages (from matplotlib>=3.0.0->mlxtend) (4.51.0)\n",
      "Requirement already satisfied: kiwisolver>=1.3.1 in c:\\users\\varun\\anaconda3\\lib\\site-packages (from matplotlib>=3.0.0->mlxtend) (1.4.4)\n",
      "Requirement already satisfied: packaging>=20.0 in c:\\users\\varun\\anaconda3\\lib\\site-packages (from matplotlib>=3.0.0->mlxtend) (24.1)\n",
      "Requirement already satisfied: pillow>=8 in c:\\users\\varun\\anaconda3\\lib\\site-packages (from matplotlib>=3.0.0->mlxtend) (10.4.0)\n",
      "Requirement already satisfied: pyparsing>=2.3.1 in c:\\users\\varun\\anaconda3\\lib\\site-packages (from matplotlib>=3.0.0->mlxtend) (3.1.2)\n",
      "Requirement already satisfied: python-dateutil>=2.7 in c:\\users\\varun\\anaconda3\\lib\\site-packages (from matplotlib>=3.0.0->mlxtend) (2.9.0.post0)\n",
      "Requirement already satisfied: pytz>=2020.1 in c:\\users\\varun\\anaconda3\\lib\\site-packages (from pandas>=0.24.2->mlxtend) (2024.1)\n",
      "Requirement already satisfied: tzdata>=2022.7 in c:\\users\\varun\\anaconda3\\lib\\site-packages (from pandas>=0.24.2->mlxtend) (2023.3)\n",
      "Requirement already satisfied: threadpoolctl>=3.1.0 in c:\\users\\varun\\anaconda3\\lib\\site-packages (from scikit-learn>=1.3.1->mlxtend) (3.5.0)\n",
      "Requirement already satisfied: six>=1.5 in c:\\users\\varun\\anaconda3\\lib\\site-packages (from python-dateutil>=2.7->matplotlib>=3.0.0->mlxtend) (1.16.0)\n"
     ]
    }
   ],
   "source": [
    "!pip install mlxtend\n"
   ]
  },
  {
   "cell_type": "code",
   "execution_count": 64,
   "id": "af9592ad",
   "metadata": {},
   "outputs": [
    {
     "name": "stdout",
     "output_type": "stream",
     "text": [
      "Accuracy: 0.89 (+/- 0.01) [Linear SVC]\n",
      "Accuracy: 0.89 (+/- 0.00) [SVC (RBF)]\n",
      "Accuracy: 0.89 (+/- 0.01) [Random Forest]\n",
      "Accuracy: 0.87 (+/- 0.02) [XGBoost]\n",
      "Accuracy: 0.89 (+/- 0.00) [StackingClassifier]\n"
     ]
    }
   ],
   "source": [
    "from mlxtend.classifier import StackingClassifier\n",
    "from sklearn import model_selection\n",
    "from sklearn.svm import SVC, LinearSVC\n",
    "from sklearn.ensemble import RandomForestClassifier\n",
    "from xgboost import XGBClassifier\n",
    "from sklearn.linear_model import LogisticRegression\n",
    "\n",
    "# Initialize classifiers\n",
    "linear_svc = LinearSVC()\n",
    "svc = SVC()  # Define SVC before using it\n",
    "classifier = RandomForestClassifier()\n",
    "xgb_model = XGBClassifier()\n",
    "\n",
    "# Assign classifiers\n",
    "clf1 = linear_svc\n",
    "clf2 = svc\n",
    "clf3 = classifier\n",
    "clf4 = xgb_model\n",
    "\n",
    "# Create stacking classifier\n",
    "lr = LogisticRegression()\n",
    "sclf = StackingClassifier(classifiers=[clf1, clf2, clf3, clf4], meta_classifier=lr)\n",
    "\n",
    "# Define X and Y (Make sure they are properly loaded)\n",
    "# X = <Your feature matrix>\n",
    "# Y = <Your target variable>\n",
    "\n",
    "# Perform cross-validation\n",
    "for clf, label in zip([clf1, clf2, clf3, clf4, sclf], \n",
    "                      ['Linear SVC', 'SVC (RBF)', 'Random Forest', 'XGBoost', 'StackingClassifier']):\n",
    "    scores = model_selection.cross_val_score(clf, X, Y, cv=3, scoring='accuracy')\n",
    "    print(\"Accuracy: %0.2f (+/- %0.2f) [%s]\" % (scores.mean(), scores.std(), label))\n"
   ]
  },
  {
   "cell_type": "code",
   "execution_count": 68,
   "id": "f4b8d978-a7bc-40aa-9d10-188f0094d763",
   "metadata": {},
   "outputs": [
    {
     "name": "stdout",
     "output_type": "stream",
     "text": [
      "Accuracy: 0.89 (+/- 0.01) [Linear SVC]\n",
      "Accuracy: 0.89 (+/- 0.00) [SVC (RBF)]\n",
      "Accuracy: 0.89 (+/- 0.01) [Random Forest]\n",
      "Accuracy: 0.87 (+/- 0.02) [XGBoost]\n",
      "Accuracy: 0.89 (+/- 0.00) [StackingClassifier]\n"
     ]
    },
    {
     "name": "stderr",
     "output_type": "stream",
     "text": [
      "C:\\Users\\varun\\AppData\\Local\\Temp\\ipykernel_12664\\1265103986.py:43: FutureWarning: \n",
      "\n",
      "Passing `palette` without assigning `hue` is deprecated and will be removed in v0.14.0. Assign the `x` variable to `hue` and set `legend=False` for the same effect.\n",
      "\n",
      "  sns.barplot(x=labels, y=accuracy_scores, palette='viridis')\n"
     ]
    },
    {
     "data": {
      "image/png": "[encoded data removed]",
      "text/plain": [
       "<Figure size 800x500 with 1 Axes>"
      ]
     },
     "metadata": {},
     "output_type": "display_data"
    },
    {
     "data": {
      "image/png": "[encoded data removed]",
      "text/plain": [
       "<Figure size 600x500 with 2 Axes>"
      ]
     },
     "metadata": {},
     "output_type": "display_data"
    },
    {
     "data": {
      "image/png": "[encoded data removed]",
      "text/plain": [
       "<Figure size 600x500 with 1 Axes>"
      ]
     },
     "metadata": {},
     "output_type": "display_data"
    }
   ],
   "source": [
    "import numpy as np\n",
    "import matplotlib.pyplot as plt\n",
    "import seaborn as sns\n",
    "from sklearn import model_selection, metrics\n",
    "from sklearn.svm import SVC, LinearSVC\n",
    "from sklearn.ensemble import RandomForestClassifier\n",
    "from xgboost import XGBClassifier\n",
    "from sklearn.linear_model import LogisticRegression\n",
    "from mlxtend.classifier import StackingClassifier\n",
    "\n",
    "# Initialize classifiers\n",
    "linear_svc = LinearSVC()\n",
    "svc = SVC(probability=True)  # Needed for ROC Curve\n",
    "classifier = RandomForestClassifier()\n",
    "xgb_model = XGBClassifier()\n",
    "\n",
    "# Assign classifiers\n",
    "clf1 = linear_svc\n",
    "clf2 = svc\n",
    "clf3 = classifier\n",
    "clf4 = xgb_model\n",
    "\n",
    "# Create stacking classifier\n",
    "lr = LogisticRegression()\n",
    "sclf = StackingClassifier(classifiers=[clf1, clf2, clf3, clf4], meta_classifier=lr)\n",
    "\n",
    "# Load dataset (Make sure X and Y are correctly assigned)\n",
    "# X = <Your feature matrix>\n",
    "# Y = <Your target variable>\n",
    "\n",
    "models = [clf1, clf2, clf3, clf4, sclf]\n",
    "labels = ['Linear SVC', 'SVC (RBF)', 'Random Forest', 'XGBoost', 'StackingClassifier']\n",
    "accuracy_scores = []\n",
    "\n",
    "# Cross-validation & Accuracy Scores\n",
    "for clf, label in zip(models, labels):\n",
    "    scores = model_selection.cross_val_score(clf, X, Y, cv=3, scoring='accuracy')\n",
    "    accuracy_scores.append(scores.mean())\n",
    "    print(f\"Accuracy: {scores.mean():.2f} (+/- {scores.std():.2f}) [{label}]\")\n",
    "\n",
    "# 🔹 **Plot Accuracy Comparison**\n",
    "plt.figure(figsize=(8, 5))\n",
    "sns.barplot(x=labels, y=accuracy_scores, palette='viridis')\n",
    "plt.ylabel('Accuracy Score')\n",
    "plt.title('Model Accuracy Comparison')\n",
    "plt.xticks(rotation=45)\n",
    "plt.show()\n",
    "\n",
    "# 🔹 **Confusion Matrix & ROC Curve for the Best Model**\n",
    "best_model = models[np.argmax(accuracy_scores)]\n",
    "X_train, X_test, Y_train, Y_test = model_selection.train_test_split(X, Y, test_size=0.3, random_state=42)\n",
    "best_model.fit(X_train, Y_train)\n",
    "Y_pred = best_model.predict(X_test)\n",
    "Y_prob = best_model.predict_proba(X_test)[:, 1] if hasattr(best_model, \"predict_proba\") else None\n",
    "\n",
    "# 🔹 **Confusion Matrix**\n",
    "plt.figure(figsize=(6, 5))\n",
    "sns.heatmap(metrics.confusion_matrix(Y_test, Y_pred), annot=True, fmt='d', cmap='Blues')\n",
    "plt.xlabel('Predicted Label')\n",
    "plt.ylabel('True Label')\n",
    "plt.title(f'Confusion Matrix - {labels[np.argmax(accuracy_scores)]}')\n",
    "plt.show()\n",
    "\n",
    "# 🔹 **ROC Curve (For Probabilistic Models)**\n",
    "if Y_prob is not None:\n",
    "    fpr, tpr, _ = metrics.roc_curve(Y_test, Y_prob)\n",
    "    plt.figure(figsize=(6, 5))\n",
    "    plt.plot(fpr, tpr, color='blue', label='ROC Curve (AUC = {:.2f})'.format(metrics.roc_auc_score(Y_test, Y_prob)))\n",
    "    plt.plot([0, 1], [0, 1], color='red', linestyle='--')  # Diagonal Line\n",
    "    plt.xlabel('False Positive Rate')\n",
    "    plt.ylabel('True Positive Rate')\n",
    "    plt.title('Receiver Operating Characteristic (ROC) Curve')\n",
    "    plt.legend()\n",
    "    plt.show()\n",
    "\n"
   ]
  },
  {
   "cell_type": "code",
   "execution_count": 27,
   "id": "7017e83f",
   "metadata": {},
   "outputs": [
    {
     "name": "stdout",
     "output_type": "stream",
     "text": [
      "Model Accuracy: 0.8733\n",
      "Model and Scaler saved successfully!\n"
     ]
    }
   ],
   "source": [
    "import pandas as pd\n",
    "import numpy as np\n",
    "import joblib\n",
    "from sklearn.model_selection import train_test_split\n",
    "from sklearn.preprocessing import StandardScaler\n",
    "from sklearn.svm import SVC\n",
    "from sklearn.ensemble import RandomForestClassifier\n",
    "from sklearn.metrics import accuracy_score\n",
    "\n",
    "# Load the dataset (make sure the path is correct)\n",
    "df = pd.read_csv(\"allsounds.csv\")  # Replace with actual dataset filename\n",
    "\n",
    "# Separate features and labels\n",
    "X = df.iloc[:, :-1].values  # All columns except the last one\n",
    "y = df.iloc[:, -1].values  # The last column as target (Healthy/Positive)\n",
    "\n",
    "# Handle missing values (if any)\n",
    "X = np.nan_to_num(X)\n",
    "\n",
    "# Split data into training and testing sets\n",
    "X_train, X_test, y_train, y_test = train_test_split(X, y, test_size=0.2, random_state=42)\n",
    "\n",
    "# Scale the features\n",
    "scaler = StandardScaler()\n",
    "X_train = scaler.fit_transform(X_train)\n",
    "X_test = scaler.transform(X_test)\n",
    "\n",
    "# Train an SVM model\n",
    "model = SVC(kernel=\"rbf\", C=1.0)\n",
    "model.fit(X_train, y_train)\n",
    "\n",
    "# Evaluate the model\n",
    "y_pred = model.predict(X_test)\n",
    "accuracy = accuracy_score(y_test, y_pred)\n",
    "print(f\"Model Accuracy: {accuracy:.4f}\")\n",
    "\n",
    "# Save the trained model and scaler\n",
    "joblib.dump(model, \"model.pkl\")\n",
    "joblib.dump(scaler, \"scaler.pkl\")\n",
    "\n",
    "print(\"Model and Scaler saved successfully!\")\n"
   ]
  },
  {
   "cell_type": "code",
   "execution_count": 29,
   "id": "e273dfb3-2576-4413-9de5-926977d4cb87",
   "metadata": {},
   "outputs": [
    {
     "name": "stdout",
     "output_type": "stream",
     "text": [
      "True\n",
      "True\n"
     ]
    }
   ],
   "source": [
    "import os\n",
    "print(os.path.exists(\"model.pkl\"))  # Should return True\n",
    "print(os.path.exists(\"scaler.pkl\"))  # Should return True\n"
   ]
  },
  {
   "cell_type": "code",
   "execution_count": 31,
   "id": "45b691b4-926c-455d-bfcd-1924a8521cee",
   "metadata": {},
   "outputs": [
    {
     "name": "stdout",
     "output_type": "stream",
     "text": [
      "* Running on local URL:  http://127.0.0.1:7860\n",
      "\n",
      "To create a public link, set `share=True` in `launch()`.\n"
     ]
    },
    {
     "data": {
      "text/html": [
       "<div><iframe src=\"http://127.0.0.1:7860/\" width=\"100%\" height=\"500\" allow=\"autoplay; camera; microphone; clipboard-read; clipboard-write;\" frameborder=\"0\" allowfullscreen></iframe></div>"
      ],
      "text/plain": [
       "<IPython.core.display.HTML object>"
      ]
     },
     "metadata": {},
     "output_type": "display_data"
    },
    {
     "data": {
      "text/plain": []
     },
     "execution_count": 31,
     "metadata": {},
     "output_type": "execute_result"
    }
   ],
   "source": [
    "import gradio as gr\n",
    "import librosa\n",
    "import numpy as np\n",
    "import joblib\n",
    "import pandas as pd\n",
    "\n",
    "# Load pre-trained model and scaler\n",
    "model = joblib.load(\"model.pkl\")  \n",
    "scaler = joblib.load(\"scaler.pkl\")\n",
    "\n",
    "# Function to extract features from uploaded audio\n",
    "def extract_features(audio_file):\n",
    "    y, sr = librosa.load(audio_file, sr=None)\n",
    "    \n",
    "    # Extract features\n",
    "    mfccs = np.mean(librosa.feature.mfcc(y=y, sr=sr, n_mfcc=13).T, axis=0)\n",
    "    spec_centroid = np.mean(librosa.feature.spectral_centroid(y=y, sr=sr))\n",
    "    spec_rolloff = np.mean(librosa.feature.spectral_rolloff(y=y, sr=sr))\n",
    "    \n",
    "    # Combine features\n",
    "    features = np.hstack([mfccs, spec_centroid, spec_rolloff])\n",
    "    \n",
    "    # Scale features\n",
    "    features_scaled = scaler.transform([features])\n",
    "    \n",
    "    return features_scaled\n",
    "\n",
    "# Function to predict health condition\n",
    "def predict_health(audio_file):\n",
    "    try:\n",
    "        features = extract_features(audio_file)\n",
    "        prediction = model.predict(features)[0]\n",
    "        \n",
    "        # Interpret results\n",
    "        if prediction == 0:\n",
    "            return \"Healthy ✅\"\n",
    "        else:\n",
    "            return \"Positive ⚠️ (Possible Condition Detected)\"\n",
    "    \n",
    "    except Exception as e:\n",
    "        return f\"Error: {e}\"\n",
    "\n",
    "# Gradio UI\n",
    "iface = gr.Interface(\n",
    "    fn=predict_health,\n",
    "    inputs=gr.Audio(type=\"filepath\"),\n",
    "    outputs=\"text\",\n",
    "    title=\"🔊 Speech Health Analysis\",\n",
    "    description=\"Upload an audio file (cough, breathing, vowel sounds) to check health status.\"\n",
    ")\n",
    "\n",
    "iface.launch()\n"
   ]
  },
  {
   "cell_type": "code",
   "execution_count": 33,
   "id": "a2e94876-c3ed-4be4-af65-4f75bedfe1b2",
   "metadata": {},
   "outputs": [
    {
     "name": "stdout",
     "output_type": "stream",
     "text": [
      "Number of features in training data: 10\n"
     ]
    }
   ],
   "source": [
    "import pandas as pd\n",
    "\n",
    "df = pd.read_csv(\"allsounds.csv\")  # Load dataset\n",
    "print(f\"Number of features in training data: {df.shape[1] - 1}\")  # Exclude target column\n"
   ]
  },
  {
   "cell_type": "code",
   "execution_count": 47,
   "id": "4a56f751-a7a0-4703-af73-cbea8ed90b17",
   "metadata": {},
   "outputs": [
    {
     "name": "stdout",
     "output_type": "stream",
     "text": [
      "Requirement already satisfied: soundfile in c:\\users\\varun\\anaconda3\\lib\\site-packages (0.13.1)\n",
      "Collecting ffmpeg\n",
      "  Downloading ffmpeg-1.4.tar.gz (5.1 kB)\n",
      "  Preparing metadata (setup.py): started\n",
      "  Preparing metadata (setup.py): finished with status 'done'\n",
      "Requirement already satisfied: cffi>=1.0 in c:\\users\\varun\\anaconda3\\lib\\site-packages (from soundfile) (1.17.1)\n",
      "Requirement already satisfied: numpy in c:\\users\\varun\\anaconda3\\lib\\site-packages (from soundfile) (1.26.4)\n",
      "Requirement already satisfied: pycparser in c:\\users\\varun\\anaconda3\\lib\\site-packages (from cffi>=1.0->soundfile) (2.21)\n",
      "Building wheels for collected packages: ffmpeg\n",
      "  Building wheel for ffmpeg (setup.py): started\n",
      "  Building wheel for ffmpeg (setup.py): finished with status 'done'\n",
      "  Created wheel for ffmpeg: filename=ffmpeg-1.4-py3-none-any.whl size=6089 sha256=130e60188e6802d24da8eaaff8bab2f3d73ebdfe84f244e27e2f92404f75ef22\n",
      "  Stored in directory: c:\\users\\varun\\appdata\\local\\pip\\cache\\wheels\\26\\21\\0c\\c26e09dff860a9071683e279445262346e008a9a1d2142c4ad\n",
      "Successfully built ffmpeg\n",
      "Installing collected packages: ffmpeg\n",
      "Successfully installed ffmpeg-1.4\n"
     ]
    }
   ],
   "source": [
    "!pip install soundfile ffmpeg\n"
   ]
  },
  {
   "cell_type": "code",
   "execution_count": 49,
   "id": "ab8e0738-9fdb-46da-9c11-8ffefd0c5926",
   "metadata": {},
   "outputs": [
    {
     "name": "stderr",
     "output_type": "stream",
     "text": [
      "C:\\Users\\varun\\AppData\\Local\\Temp\\ipykernel_8148\\4085274419.py:6: UserWarning: PySoundFile failed. Trying audioread instead.\n",
      "  y, sr = librosa.load(audio_file, sr=None)  # Ensure sr is defined\n",
      "C:\\Users\\varun\\anaconda3\\Lib\\site-packages\\librosa\\core\\audio.py:184: FutureWarning: librosa.core.audio.__audioread_load\n",
      "\tDeprecated as of librosa version 0.10.0.\n",
      "\tIt will be removed in librosa version 1.0.\n",
      "  y, sr_native = __audioread_load(path, offset, duration, dtype)\n"
     ]
    },
    {
     "ename": "NoBackendError",
     "evalue": "",
     "output_type": "error",
     "traceback": [
      "\u001b[1;31m---------------------------------------------------------------------------\u001b[0m",
      "\u001b[1;31mLibsndfileError\u001b[0m                           Traceback (most recent call last)",
      "File \u001b[1;32m~\\anaconda3\\Lib\\site-packages\\librosa\\core\\audio.py:176\u001b[0m, in \u001b[0;36mload\u001b[1;34m(path, sr, mono, offset, duration, dtype, res_type)\u001b[0m\n\u001b[0;32m    175\u001b[0m \u001b[38;5;28;01mtry\u001b[39;00m:\n\u001b[1;32m--> 176\u001b[0m     y, sr_native \u001b[38;5;241m=\u001b[39m __soundfile_load(path, offset, duration, dtype)\n\u001b[0;32m    178\u001b[0m \u001b[38;5;28;01mexcept\u001b[39;00m sf\u001b[38;5;241m.\u001b[39mSoundFileRuntimeError \u001b[38;5;28;01mas\u001b[39;00m exc:\n\u001b[0;32m    179\u001b[0m     \u001b[38;5;66;03m# If soundfile failed, try audioread instead\u001b[39;00m\n",
      "File \u001b[1;32m~\\anaconda3\\Lib\\site-packages\\librosa\\core\\audio.py:209\u001b[0m, in \u001b[0;36m__soundfile_load\u001b[1;34m(path, offset, duration, dtype)\u001b[0m\n\u001b[0;32m    207\u001b[0m \u001b[38;5;28;01melse\u001b[39;00m:\n\u001b[0;32m    208\u001b[0m     \u001b[38;5;66;03m# Otherwise, create the soundfile object\u001b[39;00m\n\u001b[1;32m--> 209\u001b[0m     context \u001b[38;5;241m=\u001b[39m sf\u001b[38;5;241m.\u001b[39mSoundFile(path)\n\u001b[0;32m    211\u001b[0m \u001b[38;5;28;01mwith\u001b[39;00m context \u001b[38;5;28;01mas\u001b[39;00m sf_desc:\n",
      "File \u001b[1;32m~\\anaconda3\\Lib\\site-packages\\soundfile.py:690\u001b[0m, in \u001b[0;36mSoundFile.__init__\u001b[1;34m(self, file, mode, samplerate, channels, subtype, endian, format, closefd, compression_level, bitrate_mode)\u001b[0m\n\u001b[0;32m    688\u001b[0m \u001b[38;5;28mself\u001b[39m\u001b[38;5;241m.\u001b[39m_info \u001b[38;5;241m=\u001b[39m _create_info_struct(file, mode, samplerate, channels,\n\u001b[0;32m    689\u001b[0m                                  \u001b[38;5;28mformat\u001b[39m, subtype, endian)\n\u001b[1;32m--> 690\u001b[0m \u001b[38;5;28mself\u001b[39m\u001b[38;5;241m.\u001b[39m_file \u001b[38;5;241m=\u001b[39m \u001b[38;5;28mself\u001b[39m\u001b[38;5;241m.\u001b[39m_open(file, mode_int, closefd)\n\u001b[0;32m    691\u001b[0m \u001b[38;5;28;01mif\u001b[39;00m \u001b[38;5;28mset\u001b[39m(mode)\u001b[38;5;241m.\u001b[39missuperset(\u001b[38;5;124m'\u001b[39m\u001b[38;5;124mr+\u001b[39m\u001b[38;5;124m'\u001b[39m) \u001b[38;5;129;01mand\u001b[39;00m \u001b[38;5;28mself\u001b[39m\u001b[38;5;241m.\u001b[39mseekable():\n\u001b[0;32m    692\u001b[0m     \u001b[38;5;66;03m# Move write position to 0 (like in Python file objects)\u001b[39;00m\n",
      "File \u001b[1;32m~\\anaconda3\\Lib\\site-packages\\soundfile.py:1265\u001b[0m, in \u001b[0;36mSoundFile._open\u001b[1;34m(self, file, mode_int, closefd)\u001b[0m\n\u001b[0;32m   1264\u001b[0m     err \u001b[38;5;241m=\u001b[39m _snd\u001b[38;5;241m.\u001b[39msf_error(file_ptr)\n\u001b[1;32m-> 1265\u001b[0m     \u001b[38;5;28;01mraise\u001b[39;00m LibsndfileError(err, prefix\u001b[38;5;241m=\u001b[39m\u001b[38;5;124m\"\u001b[39m\u001b[38;5;124mError opening \u001b[39m\u001b[38;5;132;01m{0!r}\u001b[39;00m\u001b[38;5;124m: \u001b[39m\u001b[38;5;124m\"\u001b[39m\u001b[38;5;241m.\u001b[39mformat(\u001b[38;5;28mself\u001b[39m\u001b[38;5;241m.\u001b[39mname))\n\u001b[0;32m   1266\u001b[0m \u001b[38;5;28;01mif\u001b[39;00m mode_int \u001b[38;5;241m==\u001b[39m _snd\u001b[38;5;241m.\u001b[39mSFM_WRITE:\n\u001b[0;32m   1267\u001b[0m     \u001b[38;5;66;03m# Due to a bug in libsndfile version <= 1.0.25, frames != 0\u001b[39;00m\n\u001b[0;32m   1268\u001b[0m     \u001b[38;5;66;03m# when opening a named pipe in SFM_WRITE mode.\u001b[39;00m\n\u001b[0;32m   1269\u001b[0m     \u001b[38;5;66;03m# See http://github.com/erikd/libsndfile/issues/77.\u001b[39;00m\n",
      "\u001b[1;31mLibsndfileError\u001b[0m: Error opening 'cough heavy.csv': Format not recognised.",
      "\nDuring handling of the above exception, another exception occurred:\n",
      "\u001b[1;31mNoBackendError\u001b[0m                            Traceback (most recent call last)",
      "Cell \u001b[1;32mIn[49], line 20\u001b[0m\n\u001b[0;32m     17\u001b[0m     \u001b[38;5;28;01mreturn\u001b[39;00m features\n\u001b[0;32m     19\u001b[0m \u001b[38;5;66;03m# Test extraction\u001b[39;00m\n\u001b[1;32m---> 20\u001b[0m sample_features \u001b[38;5;241m=\u001b[39m extract_features(\u001b[38;5;124m\"\u001b[39m\u001b[38;5;124mcough heavy.csv\u001b[39m\u001b[38;5;124m\"\u001b[39m)  \u001b[38;5;66;03m# Replace with an actual file path\u001b[39;00m\n\u001b[0;32m     21\u001b[0m \u001b[38;5;28mprint\u001b[39m(sample_features)\n",
      "Cell \u001b[1;32mIn[49], line 6\u001b[0m, in \u001b[0;36mextract_features\u001b[1;34m(audio_file)\u001b[0m\n\u001b[0;32m      4\u001b[0m \u001b[38;5;28;01mdef\u001b[39;00m \u001b[38;5;21mextract_features\u001b[39m(audio_file):\n\u001b[0;32m      5\u001b[0m     \u001b[38;5;66;03m# Load audio file\u001b[39;00m\n\u001b[1;32m----> 6\u001b[0m     y, sr \u001b[38;5;241m=\u001b[39m librosa\u001b[38;5;241m.\u001b[39mload(audio_file, sr\u001b[38;5;241m=\u001b[39m\u001b[38;5;28;01mNone\u001b[39;00m)  \u001b[38;5;66;03m# Ensure sr is defined\u001b[39;00m\n\u001b[0;32m      8\u001b[0m     \u001b[38;5;66;03m# Extract features (Ensure the number of features matches training)\u001b[39;00m\n\u001b[0;32m      9\u001b[0m     mfccs \u001b[38;5;241m=\u001b[39m np\u001b[38;5;241m.\u001b[39mmean(librosa\u001b[38;5;241m.\u001b[39mfeature\u001b[38;5;241m.\u001b[39mmfcc(y\u001b[38;5;241m=\u001b[39my, sr\u001b[38;5;241m=\u001b[39msr, n_mfcc\u001b[38;5;241m=\u001b[39m\u001b[38;5;241m10\u001b[39m)\u001b[38;5;241m.\u001b[39mT, axis\u001b[38;5;241m=\u001b[39m\u001b[38;5;241m0\u001b[39m)  \u001b[38;5;66;03m# Adjust n_mfcc as needed\u001b[39;00m\n",
      "File \u001b[1;32m~\\anaconda3\\Lib\\site-packages\\librosa\\core\\audio.py:184\u001b[0m, in \u001b[0;36mload\u001b[1;34m(path, sr, mono, offset, duration, dtype, res_type)\u001b[0m\n\u001b[0;32m    180\u001b[0m \u001b[38;5;28;01mif\u001b[39;00m \u001b[38;5;28misinstance\u001b[39m(path, (\u001b[38;5;28mstr\u001b[39m, pathlib\u001b[38;5;241m.\u001b[39mPurePath)):\n\u001b[0;32m    181\u001b[0m     warnings\u001b[38;5;241m.\u001b[39mwarn(\n\u001b[0;32m    182\u001b[0m         \u001b[38;5;124m\"\u001b[39m\u001b[38;5;124mPySoundFile failed. Trying audioread instead.\u001b[39m\u001b[38;5;124m\"\u001b[39m, stacklevel\u001b[38;5;241m=\u001b[39m\u001b[38;5;241m2\u001b[39m\n\u001b[0;32m    183\u001b[0m     )\n\u001b[1;32m--> 184\u001b[0m     y, sr_native \u001b[38;5;241m=\u001b[39m __audioread_load(path, offset, duration, dtype)\n\u001b[0;32m    185\u001b[0m \u001b[38;5;28;01melse\u001b[39;00m:\n\u001b[0;32m    186\u001b[0m     \u001b[38;5;28;01mraise\u001b[39;00m exc\n",
      "File \u001b[1;32m~\\anaconda3\\Lib\\site-packages\\decorator.py:232\u001b[0m, in \u001b[0;36mdecorate.<locals>.fun\u001b[1;34m(*args, **kw)\u001b[0m\n\u001b[0;32m    230\u001b[0m \u001b[38;5;28;01mif\u001b[39;00m \u001b[38;5;129;01mnot\u001b[39;00m kwsyntax:\n\u001b[0;32m    231\u001b[0m     args, kw \u001b[38;5;241m=\u001b[39m fix(args, kw, sig)\n\u001b[1;32m--> 232\u001b[0m \u001b[38;5;28;01mreturn\u001b[39;00m caller(func, \u001b[38;5;241m*\u001b[39m(extras \u001b[38;5;241m+\u001b[39m args), \u001b[38;5;241m*\u001b[39m\u001b[38;5;241m*\u001b[39mkw)\n",
      "File \u001b[1;32m~\\anaconda3\\Lib\\site-packages\\librosa\\util\\decorators.py:63\u001b[0m, in \u001b[0;36mdeprecated.<locals>.__wrapper\u001b[1;34m(func, *args, **kwargs)\u001b[0m\n\u001b[0;32m     54\u001b[0m \u001b[38;5;250m\u001b[39m\u001b[38;5;124;03m\"\"\"Warn the user, and then proceed.\"\"\"\u001b[39;00m\n\u001b[0;32m     55\u001b[0m warnings\u001b[38;5;241m.\u001b[39mwarn(\n\u001b[0;32m     56\u001b[0m     \u001b[38;5;124m\"\u001b[39m\u001b[38;5;132;01m{:s}\u001b[39;00m\u001b[38;5;124m.\u001b[39m\u001b[38;5;132;01m{:s}\u001b[39;00m\u001b[38;5;130;01m\\n\u001b[39;00m\u001b[38;5;130;01m\\t\u001b[39;00m\u001b[38;5;124mDeprecated as of librosa version \u001b[39m\u001b[38;5;132;01m{:s}\u001b[39;00m\u001b[38;5;124m.\u001b[39m\u001b[38;5;124m\"\u001b[39m\n\u001b[0;32m     57\u001b[0m     \u001b[38;5;124m\"\u001b[39m\u001b[38;5;130;01m\\n\u001b[39;00m\u001b[38;5;130;01m\\t\u001b[39;00m\u001b[38;5;124mIt will be removed in librosa version \u001b[39m\u001b[38;5;132;01m{:s}\u001b[39;00m\u001b[38;5;124m.\u001b[39m\u001b[38;5;124m\"\u001b[39m\u001b[38;5;241m.\u001b[39mformat(\n\u001b[1;32m   (...)\u001b[0m\n\u001b[0;32m     61\u001b[0m     stacklevel\u001b[38;5;241m=\u001b[39m\u001b[38;5;241m3\u001b[39m,  \u001b[38;5;66;03m# Would be 2, but the decorator adds a level\u001b[39;00m\n\u001b[0;32m     62\u001b[0m )\n\u001b[1;32m---> 63\u001b[0m \u001b[38;5;28;01mreturn\u001b[39;00m func(\u001b[38;5;241m*\u001b[39margs, \u001b[38;5;241m*\u001b[39m\u001b[38;5;241m*\u001b[39mkwargs)\n",
      "File \u001b[1;32m~\\anaconda3\\Lib\\site-packages\\librosa\\core\\audio.py:240\u001b[0m, in \u001b[0;36m__audioread_load\u001b[1;34m(path, offset, duration, dtype)\u001b[0m\n\u001b[0;32m    237\u001b[0m     reader \u001b[38;5;241m=\u001b[39m path\n\u001b[0;32m    238\u001b[0m \u001b[38;5;28;01melse\u001b[39;00m:\n\u001b[0;32m    239\u001b[0m     \u001b[38;5;66;03m# If the input was not an audioread object, try to open it\u001b[39;00m\n\u001b[1;32m--> 240\u001b[0m     reader \u001b[38;5;241m=\u001b[39m audioread\u001b[38;5;241m.\u001b[39maudio_open(path)\n\u001b[0;32m    242\u001b[0m \u001b[38;5;28;01mwith\u001b[39;00m reader \u001b[38;5;28;01mas\u001b[39;00m input_file:\n\u001b[0;32m    243\u001b[0m     sr_native \u001b[38;5;241m=\u001b[39m input_file\u001b[38;5;241m.\u001b[39msamplerate\n",
      "File \u001b[1;32m~\\anaconda3\\Lib\\site-packages\\audioread\\__init__.py:132\u001b[0m, in \u001b[0;36maudio_open\u001b[1;34m(path, backends)\u001b[0m\n\u001b[0;32m    129\u001b[0m         \u001b[38;5;28;01mpass\u001b[39;00m\n\u001b[0;32m    131\u001b[0m \u001b[38;5;66;03m# All backends failed!\u001b[39;00m\n\u001b[1;32m--> 132\u001b[0m \u001b[38;5;28;01mraise\u001b[39;00m NoBackendError()\n",
      "\u001b[1;31mNoBackendError\u001b[0m: "
     ]
    }
   ],
   "source": [
    "import librosa\n",
    "import numpy as np\n",
    "\n",
    "def extract_features(audio_file):\n",
    "    # Load audio file\n",
    "    y, sr = librosa.load(audio_file, sr=None)  # Ensure sr is defined\n",
    "\n",
    "    # Extract features (Ensure the number of features matches training)\n",
    "    mfccs = np.mean(librosa.feature.mfcc(y=y, sr=sr, n_mfcc=10).T, axis=0)  # Adjust n_mfcc as needed\n",
    "    spec_centroid = np.mean(librosa.feature.spectral_centroid(y=y, sr=sr))\n",
    "    spec_rolloff = np.mean(librosa.feature.spectral_rolloff(y=y, sr=sr))\n",
    "\n",
    "    # Combine all features into one array\n",
    "    features = np.hstack([mfccs, [spec_centroid, spec_rolloff]])  # Ensure brackets around single values\n",
    "\n",
    "    print(f\"Extracted Features Shape: {features.shape}\")  # Debugging line\n",
    "    return features\n",
    "\n",
    "# Test extraction\n",
    "sample_features = extract_features(\"cough heavy.csv\")  # Replace with an actual file path\n",
    "print(sample_features)\n"
   ]
  },
  {
   "cell_type": "code",
   "execution_count": 37,
   "id": "c1e410f1-4024-4490-a1af-f45ab7eec5b4",
   "metadata": {},
   "outputs": [],
   "source": [
    "X = df.iloc[:, :-1].values  # Select only the first 10 features\n",
    "y = df.iloc[:, -1].values   # Labels\n"
   ]
  },
  {
   "cell_type": "code",
   "execution_count": 51,
   "id": "69f992b9-f5e3-4033-ad0a-72e1b016baae",
   "metadata": {},
   "outputs": [
    {
     "name": "stdout",
     "output_type": "stream",
     "text": [
      "Error: Error opening 'sample.wav': System error.\n"
     ]
    }
   ],
   "source": [
    "import soundfile as sf\n",
    "\n",
    "# Check if the file can be read\n",
    "file_path = \"sample.wav\"  # Replace with your actual file path\n",
    "try:\n",
    "    with sf.SoundFile(file_path) as f:\n",
    "        print(f\"File {file_path} is valid with sample rate {f.samplerate}\")\n",
    "except Exception as e:\n",
    "    print(f\"Error: {e}\")\n"
   ]
  },
  {
   "cell_type": "code",
   "execution_count": 3,
   "id": "a063520f-e509-4779-8511-ee48b1a4607f",
   "metadata": {},
   "outputs": [
    {
     "name": "stdout",
     "output_type": "stream",
     "text": [
      "* Running on local URL:  http://127.0.0.1:7862\n",
      "\n",
      "To create a public link, set `share=True` in `launch()`.\n"
     ]
    },
    {
     "data": {
      "text/html": [
       "<div><iframe src=\"http://127.0.0.1:7862/\" width=\"100%\" height=\"500\" allow=\"autoplay; camera; microphone; clipboard-read; clipboard-write;\" frameborder=\"0\" allowfullscreen></iframe></div>"
      ],
      "text/plain": [
       "<IPython.core.display.HTML object>"
      ]
     },
     "metadata": {},
     "output_type": "display_data"
    },
    {
     "data": {
      "text/plain": []
     },
     "execution_count": 3,
     "metadata": {},
     "output_type": "execute_result"
    }
   ],
   "source": [
    "import gradio as gr\n",
    "import librosa\n",
    "import numpy as np\n",
    "import joblib\n",
    "import pandas as pd\n",
    "\n",
    "# Load pre-trained model and scaler\n",
    "model = joblib.load(\"model.pkl\")  \n",
    "scaler = joblib.load(\"scaler.pkl\")\n",
    "\n",
    "# Function to extract features from uploaded audio\n",
    "def extract_features(audio_file):\n",
    "    y, sr = librosa.load(audio_file, sr=None)\n",
    "    \n",
    "    # Extract features\n",
    "    mfccs = np.mean(librosa.feature.mfcc(y=y, sr=sr, n_mfcc=13).T, axis=0)\n",
    "    spec_centroid = np.mean(librosa.feature.spectral_centroid(y=y, sr=sr))\n",
    "    spec_rolloff = np.mean(librosa.feature.spectral_rolloff(y=y, sr=sr))\n",
    "    \n",
    "    # Combine features\n",
    "    features = np.hstack([mfccs, spec_centroid, spec_rolloff])\n",
    "    \n",
    "    # Scale features\n",
    "    features_scaled = scaler.transform([features])\n",
    "    \n",
    "    return features_scaled\n",
    "\n",
    "# Function to predict health condition\n",
    "def predict_health(audio_file):\n",
    "    try:\n",
    "        features = extract_features(audio_file)\n",
    "        prediction = model.predict(features)[0]\n",
    "        \n",
    "        # Interpret results\n",
    "        if prediction == 0:\n",
    "            return \"Healthy ✅\"\n",
    "        else:\n",
    "            return \"Positive ⚠️ (Possible Condition Detected)\"\n",
    "    \n",
    "    except Exception as e:\n",
    "        return f\"Error: {e}\"\n",
    "\n",
    "# Gradio UI\n",
    "iface = gr.Interface(\n",
    "    fn=predict_health,\n",
    "    inputs=gr.Audio(type=\"filepath\"),\n",
    "    outputs=\"text\",\n",
    "    title=\"🔊 Speech Health Analysis\",\n",
    "    description=\"Upload an audio file (cough, breathing, vowel sounds) to check health status.\"\n",
    ")\n",
    "\n",
    "iface.launch()\n"
   ]
  },
  {
   "cell_type": "code",
   "execution_count": 67,
   "id": "c0a9bb1d-79f0-4cdc-888e-f6384505f9b1",
   "metadata": {},
   "outputs": [
    {
     "name": "stdout",
     "output_type": "stream",
     "text": [
      "File exists: True\n"
     ]
    }
   ],
   "source": [
    "import os\n",
    "\n",
    "file_path = \"Record (online-voice-recorder.com) (1).mp3\"\n",
    "print(f\"File exists: {os.path.exists(file_path)}\")\n"
   ]
  },
  {
   "cell_type": "code",
   "execution_count": 69,
   "id": "2ac227b1-c123-4951-a356-7931db87e2d6",
   "metadata": {},
   "outputs": [
    {
     "name": "stdout",
     "output_type": "stream",
     "text": [
      "Requirement already satisfied: ffmpeg in c:\\users\\varun\\anaconda3\\lib\\site-packages (1.4)\n",
      "Note: you may need to restart the kernel to use updated packages.\n"
     ]
    }
   ],
   "source": [
    "pip install ffmpeg\n"
   ]
  },
  {
   "cell_type": "code",
   "execution_count": 28,
   "id": "08df61b9-89b7-4178-8025-8d6f5c38cf17",
   "metadata": {},
   "outputs": [
    {
     "name": "stdout",
     "output_type": "stream",
     "text": [
      "Requirement already satisfied: pydub in c:\\users\\varun\\anaconda3\\lib\\site-packages (0.25.1)\n",
      "Requirement already satisfied: ffmpeg-python in c:\\users\\varun\\anaconda3\\lib\\site-packages (0.2.0)\n",
      "Requirement already satisfied: future in c:\\users\\varun\\anaconda3\\lib\\site-packages (from ffmpeg-python) (1.0.0)\n"
     ]
    }
   ],
   "source": [
    "!pip install pydub ffmpeg-python\n"
   ]
  },
  {
   "cell_type": "code",
   "execution_count": 30,
   "id": "e4175a98-3f38-47b8-bb49-1dde5eb9e84b",
   "metadata": {},
   "outputs": [
    {
     "name": "stdout",
     "output_type": "stream",
     "text": [
      "❌ FFmpeg NOT found. Install it manually.\n"
     ]
    }
   ],
   "source": [
    "import os\n",
    "\n",
    "ffmpeg_path = os.popen(\"where ffmpeg\").read().strip()  # For Windows\n",
    "if ffmpeg_path:\n",
    "    print(f\"✔ FFmpeg found at: {ffmpeg_path}\")\n",
    "else:\n",
    "    print(\"❌ FFmpeg NOT found. Install it manually.\")\n"
   ]
  },
  {
   "cell_type": "code",
   "execution_count": null,
   "id": "a4ec304b-b869-4514-b6e0-06bd0864ab9a",
   "metadata": {},
   "outputs": [],
   "source": []
  },
  {
   "cell_type": "code",
   "execution_count": 79,
   "id": "149596a4-0e51-44c1-8816-e396d2e7e0cd",
   "metadata": {},
   "outputs": [
    {
     "name": "stdout",
     "output_type": "stream",
     "text": [
      "✔ MP3 file found!\n"
     ]
    }
   ],
   "source": [
    "import os\n",
    "\n",
    "file_path = r\"C:\\Users\\varun\\Downloads\\Record (online-voice-recorder.com) (1).mp3\"\n",
    "\n",
    "if os.path.exists(file_path):\n",
    "    print(\"✔ MP3 file found!\")\n",
    "else:\n",
    "    print(\"❌ MP3 file NOT found! Check the file path.\")\n"
   ]
  },
  {
   "cell_type": "code",
   "execution_count": 81,
   "id": "6dfd66e7-01ed-47c7-af07-19d7810af821",
   "metadata": {},
   "outputs": [
    {
     "name": "stdout",
     "output_type": "stream",
     "text": [
      "❌ FFmpeg NOT found. Follow the installation steps.\n"
     ]
    }
   ],
   "source": [
    "import os\n",
    "\n",
    "ffmpeg_path = os.popen(\"where ffmpeg\").read().strip()  # Windows check\n",
    "if ffmpeg_path:\n",
    "    print(f\"✔ FFmpeg found at: {ffmpeg_path}\")\n",
    "else:\n",
    "    print(\"❌ FFmpeg NOT found. Follow the installation steps.\")\n"
   ]
  },
  {
   "cell_type": "code",
   "execution_count": 83,
   "id": "b02c3493-918a-4852-99b6-9195783f4b94",
   "metadata": {},
   "outputs": [],
   "source": [
    "AudioSegment.converter = r\"C:\\ffmpeg\\bin\\ffmpeg.exe\"  # Update the correct path\n"
   ]
  },
  {
   "cell_type": "code",
   "execution_count": 12,
   "id": "412d8e0d-b78c-4aed-948b-dc6eff8dbe53",
   "metadata": {},
   "outputs": [
    {
     "name": "stdout",
     "output_type": "stream",
     "text": [
      "❌ Error during conversion: [Errno 2] No such file or directory: 'C:\\\\Users\\\\varun\\\\Downloads\\\\Record (online-voice-recorder.com) (1).mp3'\n"
     ]
    }
   ],
   "source": [
    "from pydub import AudioSegment\n",
    "import os\n",
    "\n",
    "# Set FFmpeg path manually (if needed)\n",
    "AudioSegment.converter = r\"C:\\ffmpeg\\bin\\ffmpeg.exe\"  # Update with correct path\n",
    "\n",
    "# Use a renamed and properly placed file path\n",
    "file_path = r\"C:\\Users\\varun\\Downloads\\Record (online-voice-recorder.com) (1).mp3\"  # Ensure the file exists\n",
    "output_path = r\"C:\\Users\\varun\\Documents\\output.wav\"\n",
    "\n",
    "# Convert MP3 to WAV\n",
    "try:\n",
    "    sound = AudioSegment.from_mp3(file_path)\n",
    "    sound.export(output_path, format=\"wav\")\n",
    "    print(\"✔ Conversion Complete! Use 'output.wav' in your script.\")\n",
    "except Exception as e:\n",
    "    print(f\"❌ Error during conversion: {e}\")\n"
   ]
  },
  {
   "cell_type": "code",
   "execution_count": 32,
   "id": "8f06baf6-f106-4e71-9679-74dd8fc57547",
   "metadata": {},
   "outputs": [
    {
     "name": "stderr",
     "output_type": "stream",
     "text": [
      "C:\\Users\\varun\\AppData\\Local\\Temp\\ipykernel_12116\\653211278.py:7: DeprecationWarning: Python 3.14 will, by default, filter extracted tar archives and reject files or modify their metadata. Use the filter argument to control this behavior.\n",
      "  tar.extractall(path=extract_path)\n"
     ]
    },
    {
     "name": "stdout",
     "output_type": "stream",
     "text": [
      "✔ FFmpeg extracted successfully!\n"
     ]
    }
   ],
   "source": [
    "import tarfile\n",
    "\n",
    "file_path = r\"C:\\Users\\varun\\Downloads\\ffmpeg-7.1.1.tar.xz\"  # Corrected path\n",
    "extract_path = r\"C:\\Users\\varun\\Downloads\\ffmpeg_extracted\"  # Extraction folder\n",
    "\n",
    "with tarfile.open(file_path, \"r:xz\") as tar:\n",
    "    tar.extractall(path=extract_path)\n",
    "\n",
    "print(\"✔ FFmpeg extracted successfully!\")\n"
   ]
  },
  {
   "cell_type": "code",
   "execution_count": 34,
   "id": "7f86da5f-6eb0-43ff-907a-7e093645990f",
   "metadata": {},
   "outputs": [
    {
     "ename": "FileNotFoundError",
     "evalue": "[Errno 2] No such file or directory: 'C:\\\\Users\\\\varun\\\\Downloads\\\\audio.mp3'",
     "output_type": "error",
     "traceback": [
      "\u001b[1;31m---------------------------------------------------------------------------\u001b[0m",
      "\u001b[1;31mFileNotFoundError\u001b[0m                         Traceback (most recent call last)",
      "Cell \u001b[1;32mIn[34], line 11\u001b[0m\n\u001b[0;32m      8\u001b[0m output_wav \u001b[38;5;241m=\u001b[39m \u001b[38;5;124mr\u001b[39m\u001b[38;5;124m\"\u001b[39m\u001b[38;5;124mC:\u001b[39m\u001b[38;5;124m\\\u001b[39m\u001b[38;5;124mUsers\u001b[39m\u001b[38;5;124m\\\u001b[39m\u001b[38;5;124mvarun\u001b[39m\u001b[38;5;124m\\\u001b[39m\u001b[38;5;124mDownloads\u001b[39m\u001b[38;5;124m\\\u001b[39m\u001b[38;5;124moutput.wav\u001b[39m\u001b[38;5;124m\"\u001b[39m\n\u001b[0;32m     10\u001b[0m \u001b[38;5;66;03m# Convert MP3 to WAV\u001b[39;00m\n\u001b[1;32m---> 11\u001b[0m sound \u001b[38;5;241m=\u001b[39m AudioSegment\u001b[38;5;241m.\u001b[39mfrom_mp3(input_mp3)\n\u001b[0;32m     12\u001b[0m sound\u001b[38;5;241m.\u001b[39mexport(output_wav, \u001b[38;5;28mformat\u001b[39m\u001b[38;5;241m=\u001b[39m\u001b[38;5;124m\"\u001b[39m\u001b[38;5;124mwav\u001b[39m\u001b[38;5;124m\"\u001b[39m)\n\u001b[0;32m     14\u001b[0m \u001b[38;5;28mprint\u001b[39m(\u001b[38;5;124m\"\u001b[39m\u001b[38;5;124m✔ Conversion Complete! WAV file saved at:\u001b[39m\u001b[38;5;124m\"\u001b[39m, output_wav)\n",
      "File \u001b[1;32m~\\anaconda3\\Lib\\site-packages\\pydub\\audio_segment.py:796\u001b[0m, in \u001b[0;36mAudioSegment.from_mp3\u001b[1;34m(cls, file, parameters)\u001b[0m\n\u001b[0;32m    794\u001b[0m \u001b[38;5;129m@classmethod\u001b[39m\n\u001b[0;32m    795\u001b[0m \u001b[38;5;28;01mdef\u001b[39;00m \u001b[38;5;21mfrom_mp3\u001b[39m(\u001b[38;5;28mcls\u001b[39m, file, parameters\u001b[38;5;241m=\u001b[39m\u001b[38;5;28;01mNone\u001b[39;00m):\n\u001b[1;32m--> 796\u001b[0m     \u001b[38;5;28;01mreturn\u001b[39;00m \u001b[38;5;28mcls\u001b[39m\u001b[38;5;241m.\u001b[39mfrom_file(file, \u001b[38;5;124m'\u001b[39m\u001b[38;5;124mmp3\u001b[39m\u001b[38;5;124m'\u001b[39m, parameters\u001b[38;5;241m=\u001b[39mparameters)\n",
      "File \u001b[1;32m~\\anaconda3\\Lib\\site-packages\\pydub\\audio_segment.py:651\u001b[0m, in \u001b[0;36mAudioSegment.from_file\u001b[1;34m(cls, file, format, codec, parameters, start_second, duration, **kwargs)\u001b[0m\n\u001b[0;32m    649\u001b[0m \u001b[38;5;28;01mexcept\u001b[39;00m \u001b[38;5;167;01mTypeError\u001b[39;00m:\n\u001b[0;32m    650\u001b[0m     filename \u001b[38;5;241m=\u001b[39m \u001b[38;5;28;01mNone\u001b[39;00m\n\u001b[1;32m--> 651\u001b[0m file, close_file \u001b[38;5;241m=\u001b[39m _fd_or_path_or_tempfile(file, \u001b[38;5;124m'\u001b[39m\u001b[38;5;124mrb\u001b[39m\u001b[38;5;124m'\u001b[39m, tempfile\u001b[38;5;241m=\u001b[39m\u001b[38;5;28;01mFalse\u001b[39;00m)\n\u001b[0;32m    653\u001b[0m \u001b[38;5;28;01mif\u001b[39;00m \u001b[38;5;28mformat\u001b[39m:\n\u001b[0;32m    654\u001b[0m     \u001b[38;5;28mformat\u001b[39m \u001b[38;5;241m=\u001b[39m \u001b[38;5;28mformat\u001b[39m\u001b[38;5;241m.\u001b[39mlower()\n",
      "File \u001b[1;32m~\\anaconda3\\Lib\\site-packages\\pydub\\utils.py:60\u001b[0m, in \u001b[0;36m_fd_or_path_or_tempfile\u001b[1;34m(fd, mode, tempfile)\u001b[0m\n\u001b[0;32m     57\u001b[0m     close_fd \u001b[38;5;241m=\u001b[39m \u001b[38;5;28;01mTrue\u001b[39;00m\n\u001b[0;32m     59\u001b[0m \u001b[38;5;28;01mif\u001b[39;00m \u001b[38;5;28misinstance\u001b[39m(fd, basestring):\n\u001b[1;32m---> 60\u001b[0m     fd \u001b[38;5;241m=\u001b[39m \u001b[38;5;28mopen\u001b[39m(fd, mode\u001b[38;5;241m=\u001b[39mmode)\n\u001b[0;32m     61\u001b[0m     close_fd \u001b[38;5;241m=\u001b[39m \u001b[38;5;28;01mTrue\u001b[39;00m\n\u001b[0;32m     63\u001b[0m \u001b[38;5;28;01mtry\u001b[39;00m:\n",
      "\u001b[1;31mFileNotFoundError\u001b[0m: [Errno 2] No such file or directory: 'C:\\\\Users\\\\varun\\\\Downloads\\\\audio.mp3'"
     ]
    }
   ],
   "source": [
    "from pydub import AudioSegment\n",
    "\n",
    "# Set FFmpeg path (if needed)\n",
    "AudioSegment.ffmpeg = r\"C:\\ffmpeg\\bin\\ffmpeg.exe\"\n",
    "\n",
    "# Define file paths\n",
    "input_mp3 = r\"C:\\Users\\varun\\Downloads\\audio.mp3\"\n",
    "output_wav = r\"C:\\Users\\varun\\Downloads\\output.wav\"\n",
    "\n",
    "# Convert MP3 to WAV\n",
    "sound = AudioSegment.from_mp3(input_mp3)\n",
    "sound.export(output_wav, format=\"wav\")\n",
    "\n",
    "print(\"✔ Conversion Complete! WAV file saved at:\", output_wav)\n"
   ]
  },
  {
   "cell_type": "code",
   "execution_count": 36,
   "id": "c6f98293-11eb-4dc6-b2ce-e0c2930975d0",
   "metadata": {},
   "outputs": [
    {
     "name": "stdout",
     "output_type": "stream",
     "text": [
      "❌ File NOT found. Check the name and path.\n"
     ]
    }
   ],
   "source": [
    "import os\n",
    "\n",
    "file_path = r\"C:\\Users\\varun\\Downloads\\audio.mp3\"\n",
    "\n",
    "if os.path.exists(file_path):\n",
    "    print(\"✅ File found!\")\n",
    "else:\n",
    "    print(\"❌ File NOT found. Check the name and path.\")\n"
   ]
  },
  {
   "cell_type": "code",
   "execution_count": 99,
   "id": "4dc6ac80-1f9e-4f20-af1c-8b4c30903846",
   "metadata": {},
   "outputs": [
    {
     "name": "stdout",
     "output_type": "stream",
     "text": [
      "FFmpeg Folder Contents: ['.mailmap', 'Changelog', 'compat', 'configure', 'CONTRIBUTING.md', 'COPYING.GPLv2', 'COPYING.GPLv3', 'COPYING.LGPLv2.1', 'COPYING.LGPLv3', 'CREDITS', 'doc', 'ffbuild', 'fftools', 'INSTALL.md', 'libavcodec', 'libavdevice', 'libavfilter', 'libavformat', 'libavutil', 'libpostproc', 'libswresample', 'libswscale', 'LICENSE.md', 'MAINTAINERS', 'Makefile', 'presets', 'README.md', 'RELEASE', 'RELEASE_NOTES', 'tests', 'tools', 'VERSION']\n"
     ]
    }
   ],
   "source": [
    "import os\n",
    "\n",
    "extract_path = r\"C:\\Users\\varun\\Downloads\\ffmpeg_extracted\\ffmpeg-7.1.1\"\n",
    "print(\"FFmpeg Folder Contents:\", os.listdir(extract_path))\n"
   ]
  },
  {
   "cell_type": "code",
   "execution_count": 10,
   "id": "d55cca50-f950-4323-9640-f3e7e28e0dee",
   "metadata": {},
   "outputs": [
    {
     "name": "stdout",
     "output_type": "stream",
     "text": [
      "✔ FFmpeg path set successfully!\n"
     ]
    }
   ],
   "source": [
    "from pydub import AudioSegment\n",
    "\n",
    "# Update with the correct extracted folder path\n",
    "AudioSegment.converter = r\"C:\\Users\\varun\\Downloads\\ffmpeg\\bin\\ffmpeg.exe\"\n",
    "AudioSegment.ffprobe = r\"C:\\Users\\varun\\Downloads\\ffmpeg\\bin\\ffprobe.exe\"\n",
    "\n",
    "print(\"✔ FFmpeg path set successfully!\")\n",
    "\n"
   ]
  },
  {
   "cell_type": "code",
   "execution_count": 16,
   "id": "95a86f53-a05e-419a-a898-83b725f5386a",
   "metadata": {},
   "outputs": [
    {
     "ename": "FileNotFoundError",
     "evalue": "File not found: C:\\Users\\varun\\Downloads\\Record (online-voice-recorder.com) (1).mp3",
     "output_type": "error",
     "traceback": [
      "\u001b[1;31m---------------------------------------------------------------------------\u001b[0m",
      "\u001b[1;31mFileNotFoundError\u001b[0m                         Traceback (most recent call last)",
      "Cell \u001b[1;32mIn[16], line 9\u001b[0m\n\u001b[0;32m      7\u001b[0m \u001b[38;5;66;03m# Ensure the file exists\u001b[39;00m\n\u001b[0;32m      8\u001b[0m \u001b[38;5;28;01mif\u001b[39;00m \u001b[38;5;129;01mnot\u001b[39;00m os\u001b[38;5;241m.\u001b[39mpath\u001b[38;5;241m.\u001b[39mexists(file_path):\n\u001b[1;32m----> 9\u001b[0m     \u001b[38;5;28;01mraise\u001b[39;00m \u001b[38;5;167;01mFileNotFoundError\u001b[39;00m(\u001b[38;5;124mf\u001b[39m\u001b[38;5;124m\"\u001b[39m\u001b[38;5;124mFile not found: \u001b[39m\u001b[38;5;132;01m{\u001b[39;00mfile_path\u001b[38;5;132;01m}\u001b[39;00m\u001b[38;5;124m\"\u001b[39m)\n\u001b[0;32m     11\u001b[0m \u001b[38;5;66;03m# Set FFmpeg path (if needed)\u001b[39;00m\n\u001b[0;32m     12\u001b[0m AudioSegment\u001b[38;5;241m.\u001b[39mffmpeg \u001b[38;5;241m=\u001b[39m \u001b[38;5;124mr\u001b[39m\u001b[38;5;124m\"\u001b[39m\u001b[38;5;124mC:\u001b[39m\u001b[38;5;124m\\\u001b[39m\u001b[38;5;124mffmpeg\u001b[39m\u001b[38;5;124m\\\u001b[39m\u001b[38;5;124mbin\u001b[39m\u001b[38;5;124m\\\u001b[39m\u001b[38;5;124mffmpeg.exe\u001b[39m\u001b[38;5;124m\"\u001b[39m\n",
      "\u001b[1;31mFileNotFoundError\u001b[0m: File not found: C:\\Users\\varun\\Downloads\\Record (online-voice-recorder.com) (1).mp3"
     ]
    }
   ],
   "source": [
    "from pydub import AudioSegment\n",
    "import os\n",
    "\n",
    "# Define MP3 file path\n",
    "file_path = r\"C:\\Users\\varun\\Downloads\\Record (online-voice-recorder.com) (1).mp3\"\n",
    "\n",
    "# Ensure the file exists\n",
    "if not os.path.exists(file_path):\n",
    "    raise FileNotFoundError(f\"File not found: {file_path}\")\n",
    "\n",
    "# Set FFmpeg path (if needed)\n",
    "AudioSegment.ffmpeg = r\"C:\\ffmpeg\\bin\\ffmpeg.exe\"\n",
    "\n",
    "# Convert MP3 to WAV\n",
    "output_path = r\"C:\\Users\\varun\\Downloads\\output.wav\"\n",
    "sound = AudioSegment.from_mp3(file_path)\n",
    "sound.export(output_path, format=\"wav\")\n",
    "\n",
    "print(\"✔ Conversion Complete! Use 'output.wav' in your script.\")\n"
   ]
  },
  {
   "cell_type": "code",
   "execution_count": 22,
   "id": "0e5387b6-a4df-4c1c-a79e-23acc581f743",
   "metadata": {},
   "outputs": [
    {
     "name": "stdout",
     "output_type": "stream",
     "text": [
      "✅ File found! Proceeding...\n"
     ]
    }
   ],
   "source": [
    "import os\n",
    "\n",
    "file_path = r\"C:\\Users\\varun\\Downloads\\audio.mp3.mp3\"\n",
    "\n",
    "if os.path.exists(file_path):\n",
    "    print(\"✅ File found! Proceeding...\")\n",
    "else:\n",
    "    print(\"❌ File NOT found. Double-check the name and path.\")\n"
   ]
  },
  {
   "cell_type": "code",
   "execution_count": 38,
   "id": "a258af0e-ae19-4120-bd8f-ee782b0951df",
   "metadata": {},
   "outputs": [],
   "source": [
    "input_mp3 = r\"C:\\test.mp3\"\n"
   ]
  },
  {
   "cell_type": "code",
   "execution_count": 1,
   "id": "8d8d4f4c-0798-4862-bb6d-02f54717d466",
   "metadata": {},
   "outputs": [
    {
     "name": "stderr",
     "output_type": "stream",
     "text": [
      "C:\\Users\\varun\\anaconda3\\Lib\\site-packages\\pydub\\utils.py:170: RuntimeWarning: Couldn't find ffmpeg or avconv - defaulting to ffmpeg, but may not work\n",
      "  warn(\"Couldn't find ffmpeg or avconv - defaulting to ffmpeg, but may not work\", RuntimeWarning)\n",
      "C:\\Users\\varun\\anaconda3\\Lib\\site-packages\\pydub\\utils.py:300: SyntaxWarning: invalid escape sequence '\\('\n",
      "  m = re.match('([su]([0-9]{1,2})p?) \\(([0-9]{1,2}) bit\\)$', token)\n",
      "C:\\Users\\varun\\anaconda3\\Lib\\site-packages\\pydub\\utils.py:301: SyntaxWarning: invalid escape sequence '\\('\n",
      "  m2 = re.match('([su]([0-9]{1,2})p?)( \\(default\\))?$', token)\n",
      "C:\\Users\\varun\\anaconda3\\Lib\\site-packages\\pydub\\utils.py:310: SyntaxWarning: invalid escape sequence '\\('\n",
      "  elif re.match('(flt)p?( \\(default\\))?$', token):\n",
      "C:\\Users\\varun\\anaconda3\\Lib\\site-packages\\pydub\\utils.py:314: SyntaxWarning: invalid escape sequence '\\('\n",
      "  elif re.match('(dbl)p?( \\(default\\))?$', token):\n"
     ]
    },
    {
     "ename": "FileNotFoundError",
     "evalue": "[Errno 2] No such file or directory: 'C:\\\\test.mp3'",
     "output_type": "error",
     "traceback": [
      "\u001b[1;31m---------------------------------------------------------------------------\u001b[0m",
      "\u001b[1;31mFileNotFoundError\u001b[0m                         Traceback (most recent call last)",
      "Cell \u001b[1;32mIn[1], line 11\u001b[0m\n\u001b[0;32m      8\u001b[0m output_wav \u001b[38;5;241m=\u001b[39m \u001b[38;5;124mr\u001b[39m\u001b[38;5;124m\"\u001b[39m\u001b[38;5;124mC:\u001b[39m\u001b[38;5;124m\\\u001b[39m\u001b[38;5;124mUsers\u001b[39m\u001b[38;5;124m\\\u001b[39m\u001b[38;5;124mvarun\u001b[39m\u001b[38;5;124m\\\u001b[39m\u001b[38;5;124mDownloads\u001b[39m\u001b[38;5;124m\\\u001b[39m\u001b[38;5;124moutput.wav\u001b[39m\u001b[38;5;124m\"\u001b[39m\n\u001b[0;32m     10\u001b[0m \u001b[38;5;66;03m# Convert MP3 to WAV\u001b[39;00m\n\u001b[1;32m---> 11\u001b[0m sound \u001b[38;5;241m=\u001b[39m AudioSegment\u001b[38;5;241m.\u001b[39mfrom_mp3(input_mp3)\n\u001b[0;32m     12\u001b[0m sound\u001b[38;5;241m.\u001b[39mexport(output_wav, \u001b[38;5;28mformat\u001b[39m\u001b[38;5;241m=\u001b[39m\u001b[38;5;124m\"\u001b[39m\u001b[38;5;124mwav\u001b[39m\u001b[38;5;124m\"\u001b[39m)\n\u001b[0;32m     14\u001b[0m \u001b[38;5;28mprint\u001b[39m(\u001b[38;5;124m\"\u001b[39m\u001b[38;5;124m✔ Conversion Complete! WAV file saved at:\u001b[39m\u001b[38;5;124m\"\u001b[39m, output_wav)\n",
      "File \u001b[1;32m~\\anaconda3\\Lib\\site-packages\\pydub\\audio_segment.py:796\u001b[0m, in \u001b[0;36mAudioSegment.from_mp3\u001b[1;34m(cls, file, parameters)\u001b[0m\n\u001b[0;32m    794\u001b[0m \u001b[38;5;129m@classmethod\u001b[39m\n\u001b[0;32m    795\u001b[0m \u001b[38;5;28;01mdef\u001b[39;00m \u001b[38;5;21mfrom_mp3\u001b[39m(\u001b[38;5;28mcls\u001b[39m, file, parameters\u001b[38;5;241m=\u001b[39m\u001b[38;5;28;01mNone\u001b[39;00m):\n\u001b[1;32m--> 796\u001b[0m     \u001b[38;5;28;01mreturn\u001b[39;00m \u001b[38;5;28mcls\u001b[39m\u001b[38;5;241m.\u001b[39mfrom_file(file, \u001b[38;5;124m'\u001b[39m\u001b[38;5;124mmp3\u001b[39m\u001b[38;5;124m'\u001b[39m, parameters\u001b[38;5;241m=\u001b[39mparameters)\n",
      "File \u001b[1;32m~\\anaconda3\\Lib\\site-packages\\pydub\\audio_segment.py:651\u001b[0m, in \u001b[0;36mAudioSegment.from_file\u001b[1;34m(cls, file, format, codec, parameters, start_second, duration, **kwargs)\u001b[0m\n\u001b[0;32m    649\u001b[0m \u001b[38;5;28;01mexcept\u001b[39;00m \u001b[38;5;167;01mTypeError\u001b[39;00m:\n\u001b[0;32m    650\u001b[0m     filename \u001b[38;5;241m=\u001b[39m \u001b[38;5;28;01mNone\u001b[39;00m\n\u001b[1;32m--> 651\u001b[0m file, close_file \u001b[38;5;241m=\u001b[39m _fd_or_path_or_tempfile(file, \u001b[38;5;124m'\u001b[39m\u001b[38;5;124mrb\u001b[39m\u001b[38;5;124m'\u001b[39m, tempfile\u001b[38;5;241m=\u001b[39m\u001b[38;5;28;01mFalse\u001b[39;00m)\n\u001b[0;32m    653\u001b[0m \u001b[38;5;28;01mif\u001b[39;00m \u001b[38;5;28mformat\u001b[39m:\n\u001b[0;32m    654\u001b[0m     \u001b[38;5;28mformat\u001b[39m \u001b[38;5;241m=\u001b[39m \u001b[38;5;28mformat\u001b[39m\u001b[38;5;241m.\u001b[39mlower()\n",
      "File \u001b[1;32m~\\anaconda3\\Lib\\site-packages\\pydub\\utils.py:60\u001b[0m, in \u001b[0;36m_fd_or_path_or_tempfile\u001b[1;34m(fd, mode, tempfile)\u001b[0m\n\u001b[0;32m     57\u001b[0m     close_fd \u001b[38;5;241m=\u001b[39m \u001b[38;5;28;01mTrue\u001b[39;00m\n\u001b[0;32m     59\u001b[0m \u001b[38;5;28;01mif\u001b[39;00m \u001b[38;5;28misinstance\u001b[39m(fd, basestring):\n\u001b[1;32m---> 60\u001b[0m     fd \u001b[38;5;241m=\u001b[39m \u001b[38;5;28mopen\u001b[39m(fd, mode\u001b[38;5;241m=\u001b[39mmode)\n\u001b[0;32m     61\u001b[0m     close_fd \u001b[38;5;241m=\u001b[39m \u001b[38;5;28;01mTrue\u001b[39;00m\n\u001b[0;32m     63\u001b[0m \u001b[38;5;28;01mtry\u001b[39;00m:\n",
      "\u001b[1;31mFileNotFoundError\u001b[0m: [Errno 2] No such file or directory: 'C:\\\\test.mp3'"
     ]
    }
   ],
   "source": [
    "from pydub import AudioSegment\n",
    "\n",
    "# Set FFmpeg path\n",
    "AudioSegment.ffmpeg = r\"C:\\ffmpeg\\bin\\ffmpeg.exe\"\n",
    "\n",
    "# Updated file paths\n",
    "input_mp3 = r\"C:\\test.mp3\"  # Moved file\n",
    "output_wav = r\"C:\\Users\\varun\\Downloads\\output.wav\"\n",
    "\n",
    "# Convert MP3 to WAV\n",
    "sound = AudioSegment.from_mp3(input_mp3)\n",
    "sound.export(output_wav, format=\"wav\")\n",
    "\n",
    "print(\"✔ Conversion Complete! WAV file saved at:\", output_wav)\n"
   ]
  },
  {
   "cell_type": "code",
   "execution_count": 3,
   "id": "e9c798a6-6f7f-4b68-b3d6-6d4afbdd4014",
   "metadata": {},
   "outputs": [
    {
     "name": "stdout",
     "output_type": "stream",
     "text": [
      "✅ File found! Proceeding...\n"
     ]
    }
   ],
   "source": [
    "import os\n",
    "\n",
    "file_path = r\"C:\\Users\\varun\\Downloads\\test.mp3\"\n",
    "\n",
    "if os.path.exists(file_path):\n",
    "    print(\"✅ File found! Proceeding...\")\n",
    "else:\n",
    "    print(\"❌ File NOT found. Double-check the name and path.\")\n"
   ]
  },
  {
   "cell_type": "code",
   "execution_count": 5,
   "id": "980c856d-c113-42db-9838-4d509e8f877b",
   "metadata": {
    "scrolled": true
   },
   "outputs": [
    {
     "name": "stderr",
     "output_type": "stream",
     "text": [
      "C:\\Users\\varun\\anaconda3\\Lib\\site-packages\\pydub\\utils.py:198: RuntimeWarning: Couldn't find ffprobe or avprobe - defaulting to ffprobe, but may not work\n",
      "  warn(\"Couldn't find ffprobe or avprobe - defaulting to ffprobe, but may not work\", RuntimeWarning)\n"
     ]
    },
    {
     "ename": "FileNotFoundError",
     "evalue": "[WinError 2] The system cannot find the file specified",
     "output_type": "error",
     "traceback": [
      "\u001b[1;31m---------------------------------------------------------------------------\u001b[0m",
      "\u001b[1;31mFileNotFoundError\u001b[0m                         Traceback (most recent call last)",
      "Cell \u001b[1;32mIn[5], line 11\u001b[0m\n\u001b[0;32m      8\u001b[0m output_wav \u001b[38;5;241m=\u001b[39m \u001b[38;5;124mr\u001b[39m\u001b[38;5;124m\"\u001b[39m\u001b[38;5;124mC:\u001b[39m\u001b[38;5;124m\\\u001b[39m\u001b[38;5;124mUsers\u001b[39m\u001b[38;5;124m\\\u001b[39m\u001b[38;5;124mvarun\u001b[39m\u001b[38;5;124m\\\u001b[39m\u001b[38;5;124mDownloads\u001b[39m\u001b[38;5;124m\\\u001b[39m\u001b[38;5;124moutput.wav\u001b[39m\u001b[38;5;124m\"\u001b[39m\n\u001b[0;32m     10\u001b[0m \u001b[38;5;66;03m# Convert MP3 to WAV\u001b[39;00m\n\u001b[1;32m---> 11\u001b[0m sound \u001b[38;5;241m=\u001b[39m AudioSegment\u001b[38;5;241m.\u001b[39mfrom_mp3(input_mp3)\n\u001b[0;32m     12\u001b[0m sound\u001b[38;5;241m.\u001b[39mexport(output_wav, \u001b[38;5;28mformat\u001b[39m\u001b[38;5;241m=\u001b[39m\u001b[38;5;124m\"\u001b[39m\u001b[38;5;124mwav\u001b[39m\u001b[38;5;124m\"\u001b[39m)\n\u001b[0;32m     14\u001b[0m \u001b[38;5;28mprint\u001b[39m(\u001b[38;5;124m\"\u001b[39m\u001b[38;5;124m✔ Conversion Complete! WAV file saved at:\u001b[39m\u001b[38;5;124m\"\u001b[39m, output_wav)\n",
      "File \u001b[1;32m~\\anaconda3\\Lib\\site-packages\\pydub\\audio_segment.py:796\u001b[0m, in \u001b[0;36mAudioSegment.from_mp3\u001b[1;34m(cls, file, parameters)\u001b[0m\n\u001b[0;32m    794\u001b[0m \u001b[38;5;129m@classmethod\u001b[39m\n\u001b[0;32m    795\u001b[0m \u001b[38;5;28;01mdef\u001b[39;00m \u001b[38;5;21mfrom_mp3\u001b[39m(\u001b[38;5;28mcls\u001b[39m, file, parameters\u001b[38;5;241m=\u001b[39m\u001b[38;5;28;01mNone\u001b[39;00m):\n\u001b[1;32m--> 796\u001b[0m     \u001b[38;5;28;01mreturn\u001b[39;00m \u001b[38;5;28mcls\u001b[39m\u001b[38;5;241m.\u001b[39mfrom_file(file, \u001b[38;5;124m'\u001b[39m\u001b[38;5;124mmp3\u001b[39m\u001b[38;5;124m'\u001b[39m, parameters\u001b[38;5;241m=\u001b[39mparameters)\n",
      "File \u001b[1;32m~\\anaconda3\\Lib\\site-packages\\pydub\\audio_segment.py:728\u001b[0m, in \u001b[0;36mAudioSegment.from_file\u001b[1;34m(cls, file, format, codec, parameters, start_second, duration, **kwargs)\u001b[0m\n\u001b[0;32m    726\u001b[0m     info \u001b[38;5;241m=\u001b[39m \u001b[38;5;28;01mNone\u001b[39;00m\n\u001b[0;32m    727\u001b[0m \u001b[38;5;28;01melse\u001b[39;00m:\n\u001b[1;32m--> 728\u001b[0m     info \u001b[38;5;241m=\u001b[39m mediainfo_json(orig_file, read_ahead_limit\u001b[38;5;241m=\u001b[39mread_ahead_limit)\n\u001b[0;32m    729\u001b[0m \u001b[38;5;28;01mif\u001b[39;00m info:\n\u001b[0;32m    730\u001b[0m     audio_streams \u001b[38;5;241m=\u001b[39m [x \u001b[38;5;28;01mfor\u001b[39;00m x \u001b[38;5;129;01min\u001b[39;00m info[\u001b[38;5;124m'\u001b[39m\u001b[38;5;124mstreams\u001b[39m\u001b[38;5;124m'\u001b[39m]\n\u001b[0;32m    731\u001b[0m                      \u001b[38;5;28;01mif\u001b[39;00m x[\u001b[38;5;124m'\u001b[39m\u001b[38;5;124mcodec_type\u001b[39m\u001b[38;5;124m'\u001b[39m] \u001b[38;5;241m==\u001b[39m \u001b[38;5;124m'\u001b[39m\u001b[38;5;124maudio\u001b[39m\u001b[38;5;124m'\u001b[39m]\n",
      "File \u001b[1;32m~\\anaconda3\\Lib\\site-packages\\pydub\\utils.py:274\u001b[0m, in \u001b[0;36mmediainfo_json\u001b[1;34m(filepath, read_ahead_limit)\u001b[0m\n\u001b[0;32m    271\u001b[0m         file\u001b[38;5;241m.\u001b[39mclose()\n\u001b[0;32m    273\u001b[0m command \u001b[38;5;241m=\u001b[39m [prober, \u001b[38;5;124m'\u001b[39m\u001b[38;5;124m-of\u001b[39m\u001b[38;5;124m'\u001b[39m, \u001b[38;5;124m'\u001b[39m\u001b[38;5;124mjson\u001b[39m\u001b[38;5;124m'\u001b[39m] \u001b[38;5;241m+\u001b[39m command_args\n\u001b[1;32m--> 274\u001b[0m res \u001b[38;5;241m=\u001b[39m Popen(command, stdin\u001b[38;5;241m=\u001b[39mstdin_parameter, stdout\u001b[38;5;241m=\u001b[39mPIPE, stderr\u001b[38;5;241m=\u001b[39mPIPE)\n\u001b[0;32m    275\u001b[0m output, stderr \u001b[38;5;241m=\u001b[39m res\u001b[38;5;241m.\u001b[39mcommunicate(\u001b[38;5;28minput\u001b[39m\u001b[38;5;241m=\u001b[39mstdin_data)\n\u001b[0;32m    276\u001b[0m output \u001b[38;5;241m=\u001b[39m output\u001b[38;5;241m.\u001b[39mdecode(\u001b[38;5;124m\"\u001b[39m\u001b[38;5;124mutf-8\u001b[39m\u001b[38;5;124m\"\u001b[39m, \u001b[38;5;124m'\u001b[39m\u001b[38;5;124mignore\u001b[39m\u001b[38;5;124m'\u001b[39m)\n",
      "File \u001b[1;32m~\\anaconda3\\Lib\\subprocess.py:1026\u001b[0m, in \u001b[0;36mPopen.__init__\u001b[1;34m(self, args, bufsize, executable, stdin, stdout, stderr, preexec_fn, close_fds, shell, cwd, env, universal_newlines, startupinfo, creationflags, restore_signals, start_new_session, pass_fds, user, group, extra_groups, encoding, errors, text, umask, pipesize, process_group)\u001b[0m\n\u001b[0;32m   1022\u001b[0m         \u001b[38;5;28;01mif\u001b[39;00m \u001b[38;5;28mself\u001b[39m\u001b[38;5;241m.\u001b[39mtext_mode:\n\u001b[0;32m   1023\u001b[0m             \u001b[38;5;28mself\u001b[39m\u001b[38;5;241m.\u001b[39mstderr \u001b[38;5;241m=\u001b[39m io\u001b[38;5;241m.\u001b[39mTextIOWrapper(\u001b[38;5;28mself\u001b[39m\u001b[38;5;241m.\u001b[39mstderr,\n\u001b[0;32m   1024\u001b[0m                     encoding\u001b[38;5;241m=\u001b[39mencoding, errors\u001b[38;5;241m=\u001b[39merrors)\n\u001b[1;32m-> 1026\u001b[0m     \u001b[38;5;28mself\u001b[39m\u001b[38;5;241m.\u001b[39m_execute_child(args, executable, preexec_fn, close_fds,\n\u001b[0;32m   1027\u001b[0m                         pass_fds, cwd, env,\n\u001b[0;32m   1028\u001b[0m                         startupinfo, creationflags, shell,\n\u001b[0;32m   1029\u001b[0m                         p2cread, p2cwrite,\n\u001b[0;32m   1030\u001b[0m                         c2pread, c2pwrite,\n\u001b[0;32m   1031\u001b[0m                         errread, errwrite,\n\u001b[0;32m   1032\u001b[0m                         restore_signals,\n\u001b[0;32m   1033\u001b[0m                         gid, gids, uid, umask,\n\u001b[0;32m   1034\u001b[0m                         start_new_session, process_group)\n\u001b[0;32m   1035\u001b[0m \u001b[38;5;28;01mexcept\u001b[39;00m:\n\u001b[0;32m   1036\u001b[0m     \u001b[38;5;66;03m# Cleanup if the child failed starting.\u001b[39;00m\n\u001b[0;32m   1037\u001b[0m     \u001b[38;5;28;01mfor\u001b[39;00m f \u001b[38;5;129;01min\u001b[39;00m \u001b[38;5;28mfilter\u001b[39m(\u001b[38;5;28;01mNone\u001b[39;00m, (\u001b[38;5;28mself\u001b[39m\u001b[38;5;241m.\u001b[39mstdin, \u001b[38;5;28mself\u001b[39m\u001b[38;5;241m.\u001b[39mstdout, \u001b[38;5;28mself\u001b[39m\u001b[38;5;241m.\u001b[39mstderr)):\n",
      "File \u001b[1;32m~\\anaconda3\\Lib\\subprocess.py:1538\u001b[0m, in \u001b[0;36mPopen._execute_child\u001b[1;34m(self, args, executable, preexec_fn, close_fds, pass_fds, cwd, env, startupinfo, creationflags, shell, p2cread, p2cwrite, c2pread, c2pwrite, errread, errwrite, unused_restore_signals, unused_gid, unused_gids, unused_uid, unused_umask, unused_start_new_session, unused_process_group)\u001b[0m\n\u001b[0;32m   1536\u001b[0m \u001b[38;5;66;03m# Start the process\u001b[39;00m\n\u001b[0;32m   1537\u001b[0m \u001b[38;5;28;01mtry\u001b[39;00m:\n\u001b[1;32m-> 1538\u001b[0m     hp, ht, pid, tid \u001b[38;5;241m=\u001b[39m _winapi\u001b[38;5;241m.\u001b[39mCreateProcess(executable, args,\n\u001b[0;32m   1539\u001b[0m                              \u001b[38;5;66;03m# no special security\u001b[39;00m\n\u001b[0;32m   1540\u001b[0m                              \u001b[38;5;28;01mNone\u001b[39;00m, \u001b[38;5;28;01mNone\u001b[39;00m,\n\u001b[0;32m   1541\u001b[0m                              \u001b[38;5;28mint\u001b[39m(\u001b[38;5;129;01mnot\u001b[39;00m close_fds),\n\u001b[0;32m   1542\u001b[0m                              creationflags,\n\u001b[0;32m   1543\u001b[0m                              env,\n\u001b[0;32m   1544\u001b[0m                              cwd,\n\u001b[0;32m   1545\u001b[0m                              startupinfo)\n\u001b[0;32m   1546\u001b[0m \u001b[38;5;28;01mfinally\u001b[39;00m:\n\u001b[0;32m   1547\u001b[0m     \u001b[38;5;66;03m# Child is launched. Close the parent's copy of those pipe\u001b[39;00m\n\u001b[0;32m   1548\u001b[0m     \u001b[38;5;66;03m# handles that only the child should have open.  You need\u001b[39;00m\n\u001b[1;32m   (...)\u001b[0m\n\u001b[0;32m   1551\u001b[0m     \u001b[38;5;66;03m# pipe will not close when the child process exits and the\u001b[39;00m\n\u001b[0;32m   1552\u001b[0m     \u001b[38;5;66;03m# ReadFile will hang.\u001b[39;00m\n\u001b[0;32m   1553\u001b[0m     \u001b[38;5;28mself\u001b[39m\u001b[38;5;241m.\u001b[39m_close_pipe_fds(p2cread, p2cwrite,\n\u001b[0;32m   1554\u001b[0m                          c2pread, c2pwrite,\n\u001b[0;32m   1555\u001b[0m                          errread, errwrite)\n",
      "\u001b[1;31mFileNotFoundError\u001b[0m: [WinError 2] The system cannot find the file specified"
     ]
    }
   ],
   "source": [
    "from pydub import AudioSegment\n",
    "\n",
    "# Set FFmpeg path\n",
    "AudioSegment.ffmpeg = r\"C:\\ffmpeg\\bin\\ffmpeg.exe\"\n",
    "\n",
    "# File paths\n",
    "input_mp3 = r\"C:\\Users\\varun\\Downloads\\test.mp3\"  # Make sure this is correct\n",
    "output_wav = r\"C:\\Users\\varun\\Downloads\\output.wav\"\n",
    "\n",
    "# Convert MP3 to WAV\n",
    "sound = AudioSegment.from_mp3(input_mp3)\n",
    "sound.export(output_wav, format=\"wav\")\n",
    "\n",
    "print(\"✔ Conversion Complete! WAV file saved at:\", output_wav)\n"
   ]
  },
  {
   "cell_type": "code",
   "execution_count": 7,
   "id": "eb5668e6-6814-4732-8e5d-8f283800145a",
   "metadata": {},
   "outputs": [
    {
     "ename": "TypeError",
     "evalue": "Audio.__init__() got an unexpected keyword argument 'source'",
     "output_type": "error",
     "traceback": [
      "\u001b[1;31m---------------------------------------------------------------------------\u001b[0m",
      "\u001b[1;31mTypeError\u001b[0m                                 Traceback (most recent call last)",
      "Cell \u001b[1;32mIn[7], line 42\u001b[0m\n\u001b[0;32m     37\u001b[0m         \u001b[38;5;28;01mreturn\u001b[39;00m \u001b[38;5;124mf\u001b[39m\u001b[38;5;124m\"\u001b[39m\u001b[38;5;124mError: \u001b[39m\u001b[38;5;132;01m{\u001b[39;00me\u001b[38;5;132;01m}\u001b[39;00m\u001b[38;5;124m\"\u001b[39m\n\u001b[0;32m     39\u001b[0m \u001b[38;5;66;03m# Gradio UI with microphone support\u001b[39;00m\n\u001b[0;32m     40\u001b[0m iface \u001b[38;5;241m=\u001b[39m gr\u001b[38;5;241m.\u001b[39mInterface(\n\u001b[0;32m     41\u001b[0m     fn\u001b[38;5;241m=\u001b[39mpredict_health,\n\u001b[1;32m---> 42\u001b[0m     inputs\u001b[38;5;241m=\u001b[39mgr\u001b[38;5;241m.\u001b[39mAudio(source\u001b[38;5;241m=\u001b[39m\u001b[38;5;124m\"\u001b[39m\u001b[38;5;124mmicrophone\u001b[39m\u001b[38;5;124m\"\u001b[39m, \u001b[38;5;28mtype\u001b[39m\u001b[38;5;241m=\u001b[39m\u001b[38;5;124m\"\u001b[39m\u001b[38;5;124mfilepath\u001b[39m\u001b[38;5;124m\"\u001b[39m),  \u001b[38;5;66;03m# Allows recording & uploads\u001b[39;00m\n\u001b[0;32m     43\u001b[0m     outputs\u001b[38;5;241m=\u001b[39m\u001b[38;5;124m\"\u001b[39m\u001b[38;5;124mtext\u001b[39m\u001b[38;5;124m\"\u001b[39m,\n\u001b[0;32m     44\u001b[0m     title\u001b[38;5;241m=\u001b[39m\u001b[38;5;124m\"\u001b[39m\u001b[38;5;124m🔊 Speech Health Analysis\u001b[39m\u001b[38;5;124m\"\u001b[39m,\n\u001b[0;32m     45\u001b[0m     description\u001b[38;5;241m=\u001b[39m\u001b[38;5;124m\"\u001b[39m\u001b[38;5;124mRecord or upload an audio sample (cough, breathing, vowel sounds) to check health status.\u001b[39m\u001b[38;5;124m\"\u001b[39m\n\u001b[0;32m     46\u001b[0m )\n\u001b[0;32m     48\u001b[0m iface\u001b[38;5;241m.\u001b[39mlaunch()\n",
      "File \u001b[1;32m~\\anaconda3\\Lib\\site-packages\\gradio\\component_meta.py:182\u001b[0m, in \u001b[0;36mupdateable.<locals>.wrapper\u001b[1;34m(*args, **kwargs)\u001b[0m\n\u001b[0;32m    180\u001b[0m     \u001b[38;5;28;01mreturn\u001b[39;00m \u001b[38;5;28;01mNone\u001b[39;00m\n\u001b[0;32m    181\u001b[0m \u001b[38;5;28;01melse\u001b[39;00m:\n\u001b[1;32m--> 182\u001b[0m     \u001b[38;5;28;01mreturn\u001b[39;00m fn(\u001b[38;5;28mself\u001b[39m, \u001b[38;5;241m*\u001b[39m\u001b[38;5;241m*\u001b[39mkwargs)\n",
      "\u001b[1;31mTypeError\u001b[0m: Audio.__init__() got an unexpected keyword argument 'source'"
     ]
    }
   ],
   "source": [
    "import gradio as gr\n",
    "import librosa\n",
    "import numpy as np\n",
    "import joblib\n",
    "\n",
    "# Load pre-trained model and scaler\n",
    "model = joblib.load(\"model.pkl\")  \n",
    "scaler = joblib.load(\"scaler.pkl\")\n",
    "\n",
    "# Function to extract features from recorded/uploaded audio\n",
    "def extract_features(audio_file):\n",
    "    y, sr = librosa.load(audio_file, sr=None)\n",
    "    \n",
    "    # Extract features\n",
    "    mfccs = np.mean(librosa.feature.mfcc(y=y, sr=sr, n_mfcc=13).T, axis=0)\n",
    "    spec_centroid = np.mean(librosa.feature.spectral_centroid(y=y, sr=sr))\n",
    "    spec_rolloff = np.mean(librosa.feature.spectral_rolloff(y=y, sr=sr))\n",
    "    \n",
    "    # Combine features\n",
    "    features = np.hstack([mfccs, spec_centroid, spec_rolloff])\n",
    "    \n",
    "    # Scale features\n",
    "    features_scaled = scaler.transform([features])\n",
    "    \n",
    "    return features_scaled\n",
    "\n",
    "# Function to predict health condition\n",
    "def predict_health(audio):\n",
    "    try:\n",
    "        features = extract_features(audio)\n",
    "        prediction = model.predict(features)[0]\n",
    "        \n",
    "        # Interpret results\n",
    "        return \"Healthy ✅\" if prediction == 0 else \"Positive ⚠️ (Possible Condition Detected)\"\n",
    "    \n",
    "    except Exception as e:\n",
    "        return f\"Error: {e}\"\n",
    "\n",
    "# Gradio UI with microphone support\n",
    "iface = gr.Interface(\n",
    "    fn=predict_health,\n",
    "    inputs=gr.Audio(source=\"microphone\", type=\"filepath\"),  # Allows recording & uploads\n",
    "    outputs=\"text\",\n",
    "    title=\"🔊 Speech Health Analysis\",\n",
    "    description=\"Record or upload an audio sample (cough, breathing, vowel sounds) to check health status.\"\n",
    ")\n",
    "\n",
    "iface.launch()\n"
   ]
  },
  {
   "cell_type": "code",
   "execution_count": 1,
   "id": "f143d277-4c2a-491e-9e49-e007b2b0dfbf",
   "metadata": {},
   "outputs": [
    {
     "name": "stdout",
     "output_type": "stream",
     "text": [
      "* Running on local URL:  http://127.0.0.1:7861\n",
      "\n",
      "To create a public link, set `share=True` in `launch()`.\n"
     ]
    },
    {
     "data": {
      "text/html": [
       "<div><iframe src=\"http://127.0.0.1:7861/\" width=\"100%\" height=\"500\" allow=\"autoplay; camera; microphone; clipboard-read; clipboard-write;\" frameborder=\"0\" allowfullscreen></iframe></div>"
      ],
      "text/plain": [
       "<IPython.core.display.HTML object>"
      ]
     },
     "metadata": {},
     "output_type": "display_data"
    },
    {
     "data": {
      "text/plain": []
     },
     "execution_count": 1,
     "metadata": {},
     "output_type": "execute_result"
    }
   ],
   "source": [
    "import gradio as gr\n",
    "import librosa\n",
    "import numpy as np\n",
    "import joblib\n",
    "import pandas as pd\n",
    "\n",
    "# Load pre-trained model and scaler\n",
    "model = joblib.load(\"model.pkl\")  \n",
    "scaler = joblib.load(\"scaler.pkl\")\n",
    "\n",
    "# Function to extract features from uploaded audio\n",
    "def extract_features(audio_file):\n",
    "    y, sr = librosa.load(audio_file, sr=None)\n",
    "    \n",
    "    # Extract features\n",
    "    mfccs = np.mean(librosa.feature.mfcc(y=y, sr=sr, n_mfcc=8).T, axis=0)\n",
    "    spec_centroid = np.mean(librosa.feature.spectral_centroid(y=y, sr=sr))\n",
    "    spec_rolloff = np.mean(librosa.feature.spectral_rolloff(y=y, sr=sr))\n",
    "    \n",
    "    # Combine features\n",
    "    features = np.hstack([mfccs, spec_centroid, spec_rolloff])\n",
    "    \n",
    "    # Scale features\n",
    "    features_scaled = scaler.transform([features])\n",
    "    \n",
    "    return features_scaled\n",
    "\n",
    "# Function to predict health condition\n",
    "def predict_health(audio_file):\n",
    "    try:\n",
    "        features = extract_features(audio_file)\n",
    "        prediction = model.predict(features)[0]\n",
    "        \n",
    "        # Interpret results\n",
    "        if prediction == 0:\n",
    "            return \"Healthy ✅\"\n",
    "        else:\n",
    "            return \"Positive ⚠️ (Possible Condition Detected)\"\n",
    "    \n",
    "    except Exception as e:\n",
    "        return f\"Error: {e}\"\n",
    "\n",
    "# Gradio UI\n",
    "iface = gr.Interface(\n",
    "    fn=predict_health,\n",
    "    inputs=gr.Audio(type=\"filepath\"),\n",
    "    outputs=\"text\",\n",
    "    title=\"🔊 Speech Health Analysis\",\n",
    "    description=\"Upload an audio file (cough, breathing, vowel sounds) to check health status.\"\n",
    ")\n",
    "\n",
    "iface.launch()\n"
   ]
  },
  {
   "cell_type": "code",
   "execution_count": 50,
   "id": "aaba3894-96c5-4901-a710-3eb17e4137a5",
   "metadata": {},
   "outputs": [
    {
     "name": "stdout",
     "output_type": "stream",
     "text": [
      "Error: The directory 'D:\\praveen backup\\kpk\\sem-6\\mini project\\DataSet\\positive' does not exist.\n"
     ]
    }
   ],
   "source": [
    "import os\n",
    "\n",
    "path = r\"D:\\varun\\kpk\\sem-6\\mini project\\DataSet\\positive\"\n",
    "\n",
    "if not os.path.exists(path):\n",
    "    print(f\"Error: The directory '{path}' does not exist.\")\n",
    "else:\n",
    "    print(\"Path exists. Proceeding...\")\n"
   ]
  },
  {
   "cell_type": "code",
   "execution_count": 54,
   "id": "7b6757f3-ee33-4b6b-aa9a-fe15a6604da3",
   "metadata": {},
   "outputs": [
    {
     "name": "stdout",
     "output_type": "stream",
     "text": [
      "Sample dataset created in: sample_dataset\n"
     ]
    }
   ],
   "source": [
    "import numpy as np\n",
    "import scipy.io.wavfile\n",
    "import os\n",
    "\n",
    "# Create a folder for sample audio files\n",
    "sample_dir = \"sample_dataset\"\n",
    "os.makedirs(sample_dir, exist_ok=True)\n",
    "\n",
    "# Function to generate synthetic sine wave audio files\n",
    "def generate_sine_wave(filename, freq=440, duration=2, sample_rate=16000):\n",
    "    t = np.linspace(0, duration, int(sample_rate * duration), False)\n",
    "    audio_signal = 0.5 * np.sin(2 * np.pi * freq * t)  # Generate sine wave\n",
    "    audio_signal = (audio_signal * 32767).astype(np.int16)  # Convert to 16-bit PCM format\n",
    "    scipy.io.wavfile.write(filename, sample_rate, audio_signal)\n",
    "\n",
    "# Generate 5 sample .wav files\n",
    "for i in range(5):\n",
    "    file_path = os.path.join(sample_dir, f\"sample_{i}.wav\")\n",
    "    generate_sine_wave(file_path, freq=300 + i * 100)\n",
    "\n",
    "print(f\"Sample dataset created in: {sample_dir}\")\n"
   ]
  },
  {
   "cell_type": "code",
   "execution_count": 56,
   "id": "2d412eb5-9098-44c8-bc3a-e1693ab84d8f",
   "metadata": {},
   "outputs": [
    {
     "data": {
      "text/html": [
       "<a href='sample_dataset.zip' target='_blank'>sample_dataset.zip</a><br>"
      ],
      "text/plain": [
       "C:\\Users\\varun\\Downloads\\sample_dataset.zip"
      ]
     },
     "execution_count": 56,
     "metadata": {},
     "output_type": "execute_result"
    }
   ],
   "source": [
    "import shutil\n",
    "\n",
    "# Define dataset folder\n",
    "dataset_folder = \"sample_dataset\"\n",
    "\n",
    "# Create a ZIP file of the dataset\n",
    "shutil.make_archive(\"sample_dataset\", 'zip', dataset_folder)\n",
    "\n",
    "# Download the ZIP file\n",
    "from IPython.display import FileLink\n",
    "FileLink(\"sample_dataset.zip\")\n"
   ]
  },
  {
   "cell_type": "code",
   "execution_count": null,
   "id": "bb7ae30c-5744-48dd-b7f3-9ce5c5421c20",
   "metadata": {},
   "outputs": [],
   "source": []
  }
 ],
 "metadata": {
  "kernelspec": {
   "display_name": "Python 3 (ipykernel)",
   "language": "python",
   "name": "python3"
  },
  "language_info": {
   "codemirror_mode": {
    "name": "ipython",
    "version": 3
   },
   "file_extension": ".py",
   "mimetype": "text/x-python",
   "name": "python",
   "nbconvert_exporter": "python",
   "pygments_lexer": "ipython3",
   "version": "3.12.7"
  }
 },
 "nbformat": 4,
 "nbformat_minor": 5
}
